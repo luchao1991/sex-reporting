{
 "cells": [
  {
   "cell_type": "markdown",
   "metadata": {},
   "source": [
    "The first step is creating a dictionary of mesh term -> mesh tree category because we want to focus on the \"C\" (diseases). "
   ]
  },
  {
   "cell_type": "code",
   "execution_count": 6,
   "metadata": {},
   "outputs": [
    {
     "data": {
      "text/plain": [
       "['../data/mesh/mtrees1997.bin',\n",
       " '../data/mesh/mtrees2008.bin',\n",
       " '../data/mesh/mtrees2009.bin',\n",
       " '../data/mesh/mtrees2018.bin',\n",
       " '../data/mesh/mtrees2002.bin',\n",
       " '../data/mesh/mtrees2016.bin',\n",
       " '../data/mesh/mtrees2017.bin',\n",
       " '../data/mesh/mtrees2003.bin',\n",
       " '../data/mesh/mtrees2015.bin',\n",
       " '../data/mesh/mtrees2001.bin',\n",
       " '../data/mesh/mtrees2014.bin',\n",
       " '../data/mesh/mtrees2010.bin',\n",
       " '../data/mesh/mtrees2004.bin',\n",
       " '../data/mesh/mtrees2005.bin',\n",
       " '../data/mesh/mtrees2011.bin',\n",
       " '../data/mesh/mtrees2007.bin',\n",
       " '../data/mesh/mtrees2013.bin',\n",
       " '../data/mesh/mtrees2012.bin',\n",
       " '../data/mesh/mtrees2006.bin',\n",
       " '../data/mesh/mtrees1998.bin']"
      ]
     },
     "execution_count": 6,
     "metadata": {},
     "output_type": "execute_result"
    }
   ],
   "source": [
    "import glob\n",
    "import pandas as pd\n",
    "\n",
    "meshtree_files = glob.glob('../data/mesh/*')\n",
    "meshtree_files"
   ]
  },
  {
   "cell_type": "code",
   "execution_count": 23,
   "metadata": {},
   "outputs": [],
   "source": [
    "def disease_mesh_term_generator():\n",
    "    for f in glob.glob('../data/mesh/*'):\n",
    "        for line in open(f):\n",
    "            try:\n",
    "                term, code = line.strip().split(';')\n",
    "            except ValueError:\n",
    "                continue\n",
    "            if code[0] == 'C':\n",
    "                yield term\n",
    "\n",
    "terms = set(disease_mesh_term_generator())"
   ]
  },
  {
   "cell_type": "code",
   "execution_count": 24,
   "metadata": {},
   "outputs": [
    {
     "data": {
      "text/plain": [
       "5315"
      ]
     },
     "execution_count": 24,
     "metadata": {},
     "output_type": "execute_result"
    }
   ],
   "source": [
    "len(terms)"
   ]
  },
  {
   "cell_type": "code",
   "execution_count": 4,
   "metadata": {},
   "outputs": [
    {
     "data": {
      "text/plain": [
       "5315"
      ]
     },
     "execution_count": 4,
     "metadata": {},
     "output_type": "execute_result"
    }
   ],
   "source": [
    "dmesh = set(open('../data/disease_mesh.txt').read().strip().split('\\n'))\n",
    "len(dmesh)"
   ]
  },
  {
   "cell_type": "markdown",
   "metadata": {},
   "source": [
    "# fraction of female first authors given a mesh term. "
   ]
  },
  {
   "cell_type": "code",
   "execution_count": 6,
   "metadata": {},
   "outputs": [],
   "source": [
    "import pandas as pd"
   ]
  },
  {
   "cell_type": "code",
   "execution_count": 11,
   "metadata": {},
   "outputs": [],
   "source": [
    "paper_year_data = '../data/genderXgender_v20180710.txt'\n",
    "multi_author_data = '../data/multi_author.csv'\n",
    "mesh_data = '../data/MESH_v20180726.txt'"
   ]
  },
  {
   "cell_type": "code",
   "execution_count": 8,
   "metadata": {},
   "outputs": [
    {
     "data": {
      "text/html": [
       "<div>\n",
       "<style scoped>\n",
       "    .dataframe tbody tr th:only-of-type {\n",
       "        vertical-align: middle;\n",
       "    }\n",
       "\n",
       "    .dataframe tbody tr th {\n",
       "        vertical-align: top;\n",
       "    }\n",
       "\n",
       "    .dataframe thead th {\n",
       "        text-align: right;\n",
       "    }\n",
       "</style>\n",
       "<table border=\"1\" class=\"dataframe\">\n",
       "  <thead>\n",
       "    <tr style=\"text-align: right;\">\n",
       "      <th></th>\n",
       "      <th>id_Art</th>\n",
       "      <th>name</th>\n",
       "    </tr>\n",
       "  </thead>\n",
       "  <tbody>\n",
       "    <tr>\n",
       "      <th>0</th>\n",
       "      <td>30314893</td>\n",
       "      <td>Analysis of Variance</td>\n",
       "    </tr>\n",
       "    <tr>\n",
       "      <th>1</th>\n",
       "      <td>56961217</td>\n",
       "      <td>Flocculation</td>\n",
       "    </tr>\n",
       "    <tr>\n",
       "      <th>2</th>\n",
       "      <td>59131259</td>\n",
       "      <td>Cardiomyopathies</td>\n",
       "    </tr>\n",
       "    <tr>\n",
       "      <th>3</th>\n",
       "      <td>30740551</td>\n",
       "      <td>Mice, Knockout</td>\n",
       "    </tr>\n",
       "    <tr>\n",
       "      <th>4</th>\n",
       "      <td>31451405</td>\n",
       "      <td>Rats</td>\n",
       "    </tr>\n",
       "  </tbody>\n",
       "</table>\n",
       "</div>"
      ],
      "text/plain": [
       "     id_Art                  name\n",
       "0  30314893  Analysis of Variance\n",
       "1  56961217          Flocculation\n",
       "2  59131259      Cardiomyopathies\n",
       "3  30740551        Mice, Knockout\n",
       "4  31451405                  Rats"
      ]
     },
     "execution_count": 8,
     "metadata": {},
     "output_type": "execute_result"
    }
   ],
   "source": [
    "mesh_df = pd.read_csv(mesh_data, sep='\\t')\n",
    "mesh_df.head()"
   ]
  },
  {
   "cell_type": "code",
   "execution_count": 26,
   "metadata": {},
   "outputs": [
    {
     "name": "stdout",
     "output_type": "stream",
     "text": [
      "id_Art\tname\n",
      "30314893\tAnalysis of Variance\n",
      "56961217\tFlocculation\n",
      "59131259\tCardiomyopathies\n",
      "30740551\tMice, Knockout\n",
      "31451405\tRats\n",
      "32258559\tGene Expression Regulation, Developmental\n",
      "57303217\tMiddle Aged\n",
      "54654255\tOsmotic Fragility\n",
      "59471463\tEpidermal Growth Factor\n"
     ]
    }
   ],
   "source": [
    "!head ../data/MESH_v20180726.txt"
   ]
  },
  {
   "cell_type": "code",
   "execution_count": 13,
   "metadata": {},
   "outputs": [
    {
     "data": {
      "text/html": [
       "<div>\n",
       "<style scoped>\n",
       "    .dataframe tbody tr th:only-of-type {\n",
       "        vertical-align: middle;\n",
       "    }\n",
       "\n",
       "    .dataframe tbody tr th {\n",
       "        vertical-align: top;\n",
       "    }\n",
       "\n",
       "    .dataframe thead th {\n",
       "        text-align: right;\n",
       "    }\n",
       "</style>\n",
       "<table border=\"1\" class=\"dataframe\">\n",
       "  <thead>\n",
       "    <tr style=\"text-align: right;\">\n",
       "      <th></th>\n",
       "      <th>PID</th>\n",
       "      <th>YEAR</th>\n",
       "      <th>GENDER_FIRST</th>\n",
       "      <th>GENDER_LAST</th>\n",
       "    </tr>\n",
       "  </thead>\n",
       "  <tbody>\n",
       "    <tr>\n",
       "      <th>0</th>\n",
       "      <td>29496694</td>\n",
       "      <td>2008</td>\n",
       "      <td>M</td>\n",
       "      <td>M</td>\n",
       "    </tr>\n",
       "    <tr>\n",
       "      <th>1</th>\n",
       "      <td>29503162</td>\n",
       "      <td>2008</td>\n",
       "      <td>F</td>\n",
       "      <td>M</td>\n",
       "    </tr>\n",
       "    <tr>\n",
       "      <th>2</th>\n",
       "      <td>29503166</td>\n",
       "      <td>2008</td>\n",
       "      <td>M</td>\n",
       "      <td>M</td>\n",
       "    </tr>\n",
       "    <tr>\n",
       "      <th>3</th>\n",
       "      <td>29503169</td>\n",
       "      <td>2008</td>\n",
       "      <td>M</td>\n",
       "      <td>M</td>\n",
       "    </tr>\n",
       "    <tr>\n",
       "      <th>4</th>\n",
       "      <td>29503196</td>\n",
       "      <td>2008</td>\n",
       "      <td>F</td>\n",
       "      <td>M</td>\n",
       "    </tr>\n",
       "  </tbody>\n",
       "</table>\n",
       "</div>"
      ],
      "text/plain": [
       "        PID  YEAR GENDER_FIRST GENDER_LAST\n",
       "0  29496694  2008            M           M\n",
       "1  29503162  2008            F           M\n",
       "2  29503166  2008            M           M\n",
       "3  29503169  2008            M           M\n",
       "4  29503196  2008            F           M"
      ]
     },
     "execution_count": 13,
     "metadata": {},
     "output_type": "execute_result"
    }
   ],
   "source": [
    "multi_df = pd.read_csv(multi_author_data, usecols=['PID', 'YEAR', 'GENDER_FIRST', 'GENDER_LAST'])\n",
    "multi_df.head()"
   ]
  },
  {
   "cell_type": "code",
   "execution_count": 14,
   "metadata": {},
   "outputs": [],
   "source": [
    "gender_replace_dic = {'M': 0, 'F': 1}\n",
    "multi_df.replace({'GENDER_FIRST': gender_replace_dic,\n",
    "                  'GENDER_LAST': gender_replace_dic}, inplace=True)"
   ]
  },
  {
   "cell_type": "code",
   "execution_count": 15,
   "metadata": {},
   "outputs": [
    {
     "data": {
      "text/html": [
       "<div>\n",
       "<style scoped>\n",
       "    .dataframe tbody tr th:only-of-type {\n",
       "        vertical-align: middle;\n",
       "    }\n",
       "\n",
       "    .dataframe tbody tr th {\n",
       "        vertical-align: top;\n",
       "    }\n",
       "\n",
       "    .dataframe thead th {\n",
       "        text-align: right;\n",
       "    }\n",
       "</style>\n",
       "<table border=\"1\" class=\"dataframe\">\n",
       "  <thead>\n",
       "    <tr style=\"text-align: right;\">\n",
       "      <th></th>\n",
       "      <th>PID</th>\n",
       "      <th>YEAR</th>\n",
       "      <th>GENDER_FIRST</th>\n",
       "      <th>GENDER_LAST</th>\n",
       "    </tr>\n",
       "  </thead>\n",
       "  <tbody>\n",
       "    <tr>\n",
       "      <th>0</th>\n",
       "      <td>29496694</td>\n",
       "      <td>2008</td>\n",
       "      <td>0</td>\n",
       "      <td>0</td>\n",
       "    </tr>\n",
       "    <tr>\n",
       "      <th>1</th>\n",
       "      <td>29503162</td>\n",
       "      <td>2008</td>\n",
       "      <td>1</td>\n",
       "      <td>0</td>\n",
       "    </tr>\n",
       "    <tr>\n",
       "      <th>2</th>\n",
       "      <td>29503166</td>\n",
       "      <td>2008</td>\n",
       "      <td>0</td>\n",
       "      <td>0</td>\n",
       "    </tr>\n",
       "    <tr>\n",
       "      <th>3</th>\n",
       "      <td>29503169</td>\n",
       "      <td>2008</td>\n",
       "      <td>0</td>\n",
       "      <td>0</td>\n",
       "    </tr>\n",
       "    <tr>\n",
       "      <th>4</th>\n",
       "      <td>29503196</td>\n",
       "      <td>2008</td>\n",
       "      <td>1</td>\n",
       "      <td>0</td>\n",
       "    </tr>\n",
       "  </tbody>\n",
       "</table>\n",
       "</div>"
      ],
      "text/plain": [
       "        PID  YEAR  GENDER_FIRST  GENDER_LAST\n",
       "0  29496694  2008             0            0\n",
       "1  29503162  2008             1            0\n",
       "2  29503166  2008             0            0\n",
       "3  29503169  2008             0            0\n",
       "4  29503196  2008             1            0"
      ]
     },
     "execution_count": 15,
     "metadata": {},
     "output_type": "execute_result"
    }
   ],
   "source": [
    "multi_df.head()"
   ]
  },
  {
   "cell_type": "code",
   "execution_count": 17,
   "metadata": {},
   "outputs": [
    {
     "data": {
      "text/plain": [
       "{'YEAR': {29496694: 2008,\n",
       "  29503162: 2008,\n",
       "  29503166: 2008,\n",
       "  29503169: 2008,\n",
       "  29503196: 2008},\n",
       " 'GENDER_FIRST': {29496694: 0,\n",
       "  29503162: 1,\n",
       "  29503166: 0,\n",
       "  29503169: 0,\n",
       "  29503196: 1},\n",
       " 'GENDER_LAST': {29496694: 0,\n",
       "  29503162: 0,\n",
       "  29503166: 0,\n",
       "  29503169: 0,\n",
       "  29503196: 0}}"
      ]
     },
     "execution_count": 17,
     "metadata": {},
     "output_type": "execute_result"
    }
   ],
   "source": [
    "multi_df.set_index('PID').head().to_dict()"
   ]
  },
  {
   "cell_type": "code",
   "execution_count": 27,
   "metadata": {},
   "outputs": [
    {
     "data": {
      "text/plain": [
       "dtype('int64')"
      ]
     },
     "execution_count": 27,
     "metadata": {},
     "output_type": "execute_result"
    }
   ],
   "source": [
    "multi_df.index.dtype"
   ]
  },
  {
   "cell_type": "code",
   "execution_count": 9,
   "metadata": {},
   "outputs": [],
   "source": [
    "dtypes = {'id_Art': 'int',\n",
    "          'Year': 'int',\n",
    "          'Main_country': 'category',\n",
    "          'nb_AUTEUR': 'int',\n",
    "          'NB_ADRESSE': 'int',\n",
    "          'nb_REFERENCE': 'int', \n",
    "          'FI_2': 'float', \n",
    "          'CIT_ALL_IAC': 'int', \n",
    "          'GENDER_TOPIC': 'category', \n",
    "          'gender_First': 'category',\n",
    "          'gender_Last': 'category',\n",
    "          'fracF': 'float',\n",
    "          'FractM': 'float',\n",
    "          'Ediscipline': 'category',\n",
    "          'ESpecialite': 'category'}\n",
    "rawdf = pd.read_csv(paper_year_data, sep='\\t', dtype=dtypes, \n",
    "                    usecols=['id_Art', 'Year', 'gender_First', 'gender_Last'])"
   ]
  },
  {
   "cell_type": "code",
   "execution_count": 10,
   "metadata": {},
   "outputs": [
    {
     "data": {
      "text/html": [
       "<div>\n",
       "<style scoped>\n",
       "    .dataframe tbody tr th:only-of-type {\n",
       "        vertical-align: middle;\n",
       "    }\n",
       "\n",
       "    .dataframe tbody tr th {\n",
       "        vertical-align: top;\n",
       "    }\n",
       "\n",
       "    .dataframe thead th {\n",
       "        text-align: right;\n",
       "    }\n",
       "</style>\n",
       "<table border=\"1\" class=\"dataframe\">\n",
       "  <thead>\n",
       "    <tr style=\"text-align: right;\">\n",
       "      <th></th>\n",
       "      <th>id_Art</th>\n",
       "      <th>Year</th>\n",
       "      <th>gender_First</th>\n",
       "      <th>gender_Last</th>\n",
       "    </tr>\n",
       "  </thead>\n",
       "  <tbody>\n",
       "    <tr>\n",
       "      <th>0</th>\n",
       "      <td>29496682</td>\n",
       "      <td>2008</td>\n",
       "      <td>M</td>\n",
       "      <td>M</td>\n",
       "    </tr>\n",
       "    <tr>\n",
       "      <th>1</th>\n",
       "      <td>29496694</td>\n",
       "      <td>2008</td>\n",
       "      <td>M</td>\n",
       "      <td>M</td>\n",
       "    </tr>\n",
       "    <tr>\n",
       "      <th>2</th>\n",
       "      <td>29499685</td>\n",
       "      <td>2008</td>\n",
       "      <td>INI</td>\n",
       "      <td>INI</td>\n",
       "    </tr>\n",
       "    <tr>\n",
       "      <th>3</th>\n",
       "      <td>29499687</td>\n",
       "      <td>2008</td>\n",
       "      <td>INI</td>\n",
       "      <td>INI</td>\n",
       "    </tr>\n",
       "    <tr>\n",
       "      <th>4</th>\n",
       "      <td>29499689</td>\n",
       "      <td>2008</td>\n",
       "      <td>M</td>\n",
       "      <td>M</td>\n",
       "    </tr>\n",
       "  </tbody>\n",
       "</table>\n",
       "</div>"
      ],
      "text/plain": [
       "     id_Art  Year gender_First gender_Last\n",
       "0  29496682  2008            M           M\n",
       "1  29496694  2008            M           M\n",
       "2  29499685  2008          INI         INI\n",
       "3  29499687  2008          INI         INI\n",
       "4  29499689  2008            M           M"
      ]
     },
     "execution_count": 10,
     "metadata": {},
     "output_type": "execute_result"
    }
   ],
   "source": [
    "rawdf.head()"
   ]
  },
  {
   "cell_type": "code",
   "execution_count": 8,
   "metadata": {},
   "outputs": [
    {
     "data": {
      "text/html": [
       "<div>\n",
       "<style scoped>\n",
       "    .dataframe tbody tr th:only-of-type {\n",
       "        vertical-align: middle;\n",
       "    }\n",
       "\n",
       "    .dataframe tbody tr th {\n",
       "        vertical-align: top;\n",
       "    }\n",
       "\n",
       "    .dataframe thead th {\n",
       "        text-align: right;\n",
       "    }\n",
       "</style>\n",
       "<table border=\"1\" class=\"dataframe\">\n",
       "  <thead>\n",
       "    <tr style=\"text-align: right;\">\n",
       "      <th></th>\n",
       "      <th>id_Art</th>\n",
       "      <th>name</th>\n",
       "    </tr>\n",
       "  </thead>\n",
       "  <tbody>\n",
       "    <tr>\n",
       "      <th>0</th>\n",
       "      <td>30314893</td>\n",
       "      <td>Analysis of Variance</td>\n",
       "    </tr>\n",
       "    <tr>\n",
       "      <th>1</th>\n",
       "      <td>56961217</td>\n",
       "      <td>Flocculation</td>\n",
       "    </tr>\n",
       "    <tr>\n",
       "      <th>2</th>\n",
       "      <td>59131259</td>\n",
       "      <td>Cardiomyopathies</td>\n",
       "    </tr>\n",
       "    <tr>\n",
       "      <th>3</th>\n",
       "      <td>30740551</td>\n",
       "      <td>Mice, Knockout</td>\n",
       "    </tr>\n",
       "    <tr>\n",
       "      <th>4</th>\n",
       "      <td>31451405</td>\n",
       "      <td>Rats</td>\n",
       "    </tr>\n",
       "  </tbody>\n",
       "</table>\n",
       "</div>"
      ],
      "text/plain": [
       "     id_Art                  name\n",
       "0  30314893  Analysis of Variance\n",
       "1  56961217          Flocculation\n",
       "2  59131259      Cardiomyopathies\n",
       "3  30740551        Mice, Knockout\n",
       "4  31451405                  Rats"
      ]
     },
     "execution_count": 8,
     "metadata": {},
     "output_type": "execute_result"
    }
   ],
   "source": [
    "mesh_df = pd.read_csv(mesh_data, sep='\\t')\n",
    "mesh_df.head()"
   ]
  },
  {
   "cell_type": "code",
   "execution_count": 9,
   "metadata": {},
   "outputs": [
    {
     "data": {
      "text/plain": [
       "27870"
      ]
     },
     "execution_count": 9,
     "metadata": {},
     "output_type": "execute_result"
    }
   ],
   "source": [
    "uniq_mesh_terms = set(mesh_df.name)\n",
    "len(uniq_mesh_terms)"
   ]
  },
  {
   "cell_type": "code",
   "execution_count": 21,
   "metadata": {},
   "outputs": [
    {
     "data": {
      "text/html": [
       "<div>\n",
       "<style scoped>\n",
       "    .dataframe tbody tr th:only-of-type {\n",
       "        vertical-align: middle;\n",
       "    }\n",
       "\n",
       "    .dataframe tbody tr th {\n",
       "        vertical-align: top;\n",
       "    }\n",
       "\n",
       "    .dataframe thead th {\n",
       "        text-align: right;\n",
       "    }\n",
       "</style>\n",
       "<table border=\"1\" class=\"dataframe\">\n",
       "  <thead>\n",
       "    <tr style=\"text-align: right;\">\n",
       "      <th></th>\n",
       "      <th>term</th>\n",
       "      <th>code</th>\n",
       "    </tr>\n",
       "  </thead>\n",
       "  <tbody>\n",
       "    <tr>\n",
       "      <th>0</th>\n",
       "      <td>Body Regions</td>\n",
       "      <td>A01</td>\n",
       "    </tr>\n",
       "    <tr>\n",
       "      <th>1</th>\n",
       "      <td>Anatomic Landmarks</td>\n",
       "      <td>A01.111</td>\n",
       "    </tr>\n",
       "    <tr>\n",
       "      <th>2</th>\n",
       "      <td>Breast</td>\n",
       "      <td>A01.236</td>\n",
       "    </tr>\n",
       "    <tr>\n",
       "      <th>3</th>\n",
       "      <td>Mammary Glands, Human</td>\n",
       "      <td>A01.236.249</td>\n",
       "    </tr>\n",
       "    <tr>\n",
       "      <th>4</th>\n",
       "      <td>Nipples</td>\n",
       "      <td>A01.236.500</td>\n",
       "    </tr>\n",
       "  </tbody>\n",
       "</table>\n",
       "</div>"
      ],
      "text/plain": [
       "                    term         code\n",
       "0           Body Regions          A01\n",
       "1     Anatomic Landmarks      A01.111\n",
       "2                 Breast      A01.236\n",
       "3  Mammary Glands, Human  A01.236.249\n",
       "4                Nipples  A01.236.500"
      ]
     },
     "execution_count": 21,
     "metadata": {},
     "output_type": "execute_result"
    }
   ],
   "source": [
    "mtree_df = pd.read_csv('../data/mesh/mtrees2018.bin', sep=';', header=None, names=['term', 'code'])\n",
    "mtree_df.head()"
   ]
  },
  {
   "cell_type": "code",
   "execution_count": 22,
   "metadata": {},
   "outputs": [
    {
     "data": {
      "text/plain": [
       "28937"
      ]
     },
     "execution_count": 22,
     "metadata": {},
     "output_type": "execute_result"
    }
   ],
   "source": [
    "uniq_mesh_terms_from_mtree = set(mtree_df.term)\n",
    "len(uniq_mesh_terms_from_mtree)"
   ]
  },
  {
   "cell_type": "code",
   "execution_count": 23,
   "metadata": {},
   "outputs": [
    {
     "data": {
      "text/plain": [
       "27763"
      ]
     },
     "execution_count": 23,
     "metadata": {},
     "output_type": "execute_result"
    }
   ],
   "source": [
    "len(uniq_mesh_terms_from_mtree & uniq_mesh_terms)"
   ]
  },
  {
   "cell_type": "code",
   "execution_count": 24,
   "metadata": {},
   "outputs": [
    {
     "data": {
      "text/plain": [
       "1174"
      ]
     },
     "execution_count": 24,
     "metadata": {},
     "output_type": "execute_result"
    }
   ],
   "source": [
    "len(uniq_mesh_terms_from_mtree - uniq_mesh_terms)"
   ]
  },
  {
   "cell_type": "code",
   "execution_count": 25,
   "metadata": {},
   "outputs": [
    {
     "data": {
      "text/plain": [
       "107"
      ]
     },
     "execution_count": 25,
     "metadata": {},
     "output_type": "execute_result"
    }
   ],
   "source": [
    "len(uniq_mesh_terms - uniq_mesh_terms_from_mtree)"
   ]
  },
  {
   "cell_type": "code",
   "execution_count": 29,
   "metadata": {},
   "outputs": [
    {
     "data": {
      "text/plain": [
       "['Angioscopes', 'Endosperm', 'Aspidosperma']"
      ]
     },
     "execution_count": 29,
     "metadata": {},
     "output_type": "execute_result"
    }
   ],
   "source": [
    "from difflib import get_close_matches\n",
    "\n",
    "get_close_matches('Angiosperms', uniq_mesh_terms_from_mtree)"
   ]
  },
  {
   "cell_type": "code",
   "execution_count": null,
   "metadata": {},
   "outputs": [],
   "source": [
    "uniq_mesh_terms - uniq_mesh_terms_from_mtree"
   ]
  },
  {
   "cell_type": "code",
   "execution_count": 25,
   "metadata": {},
   "outputs": [
    {
     "data": {
      "text/html": [
       "<div>\n",
       "<style scoped>\n",
       "    .dataframe tbody tr th:only-of-type {\n",
       "        vertical-align: middle;\n",
       "    }\n",
       "\n",
       "    .dataframe tbody tr th {\n",
       "        vertical-align: top;\n",
       "    }\n",
       "\n",
       "    .dataframe thead th {\n",
       "        text-align: right;\n",
       "    }\n",
       "</style>\n",
       "<table border=\"1\" class=\"dataframe\">\n",
       "  <thead>\n",
       "    <tr style=\"text-align: right;\">\n",
       "      <th></th>\n",
       "      <th>MESH</th>\n",
       "      <th>F_FIRST_MESH</th>\n",
       "      <th>F_LAST_MESH</th>\n",
       "    </tr>\n",
       "  </thead>\n",
       "  <tbody>\n",
       "    <tr>\n",
       "      <th>0</th>\n",
       "      <td>Cardiomyopathies</td>\n",
       "      <td>0.330512</td>\n",
       "      <td>0.209593</td>\n",
       "    </tr>\n",
       "    <tr>\n",
       "      <th>1</th>\n",
       "      <td>Parasomnias</td>\n",
       "      <td>0.309859</td>\n",
       "      <td>0.394366</td>\n",
       "    </tr>\n",
       "    <tr>\n",
       "      <th>2</th>\n",
       "      <td>Otitis Media</td>\n",
       "      <td>0.418478</td>\n",
       "      <td>0.278261</td>\n",
       "    </tr>\n",
       "    <tr>\n",
       "      <th>3</th>\n",
       "      <td>DNA Damage</td>\n",
       "      <td>0.483224</td>\n",
       "      <td>0.301751</td>\n",
       "    </tr>\n",
       "    <tr>\n",
       "      <th>4</th>\n",
       "      <td>Colorectal Neoplasms</td>\n",
       "      <td>0.390838</td>\n",
       "      <td>0.251009</td>\n",
       "    </tr>\n",
       "  </tbody>\n",
       "</table>\n",
       "</div>"
      ],
      "text/plain": [
       "                   MESH  F_FIRST_MESH  F_LAST_MESH\n",
       "0      Cardiomyopathies      0.330512     0.209593\n",
       "1           Parasomnias      0.309859     0.394366\n",
       "2          Otitis Media      0.418478     0.278261\n",
       "3            DNA Damage      0.483224     0.301751\n",
       "4  Colorectal Neoplasms      0.390838     0.251009"
      ]
     },
     "execution_count": 25,
     "metadata": {},
     "output_type": "execute_result"
    }
   ],
   "source": [
    "df = pd.read_csv('../data/female_frac_per_mesh.csv', sep='\\t')\n",
    "df.head()"
   ]
  },
  {
   "cell_type": "code",
   "execution_count": null,
   "metadata": {},
   "outputs": [],
   "source": [
    "df.set_index('MESH').to_dict()"
   ]
  },
  {
   "cell_type": "code",
   "execution_count": 28,
   "metadata": {},
   "outputs": [
    {
     "data": {
      "text/html": [
       "<div>\n",
       "<style scoped>\n",
       "    .dataframe tbody tr th:only-of-type {\n",
       "        vertical-align: middle;\n",
       "    }\n",
       "\n",
       "    .dataframe tbody tr th {\n",
       "        vertical-align: top;\n",
       "    }\n",
       "\n",
       "    .dataframe thead th {\n",
       "        text-align: right;\n",
       "    }\n",
       "</style>\n",
       "<table border=\"1\" class=\"dataframe\">\n",
       "  <thead>\n",
       "    <tr style=\"text-align: right;\">\n",
       "      <th></th>\n",
       "      <th>PID</th>\n",
       "      <th>F_FIRST_MESH</th>\n",
       "      <th>F_LAST_MESH</th>\n",
       "    </tr>\n",
       "  </thead>\n",
       "  <tbody>\n",
       "    <tr>\n",
       "      <th>0</th>\n",
       "      <td>59131259</td>\n",
       "      <td>0.402523</td>\n",
       "      <td>0.228749</td>\n",
       "    </tr>\n",
       "    <tr>\n",
       "      <th>1</th>\n",
       "      <td>47776068</td>\n",
       "      <td>0.459175</td>\n",
       "      <td>0.345174</td>\n",
       "    </tr>\n",
       "    <tr>\n",
       "      <th>2</th>\n",
       "      <td>46225070</td>\n",
       "      <td>0.410134</td>\n",
       "      <td>0.280091</td>\n",
       "    </tr>\n",
       "    <tr>\n",
       "      <th>3</th>\n",
       "      <td>56668249</td>\n",
       "      <td>0.483224</td>\n",
       "      <td>0.301751</td>\n",
       "    </tr>\n",
       "    <tr>\n",
       "      <th>4</th>\n",
       "      <td>55249873</td>\n",
       "      <td>0.370968</td>\n",
       "      <td>0.240464</td>\n",
       "    </tr>\n",
       "  </tbody>\n",
       "</table>\n",
       "</div>"
      ],
      "text/plain": [
       "        PID  F_FIRST_MESH  F_LAST_MESH\n",
       "0  59131259      0.402523     0.228749\n",
       "1  47776068      0.459175     0.345174\n",
       "2  46225070      0.410134     0.280091\n",
       "3  56668249      0.483224     0.301751\n",
       "4  55249873      0.370968     0.240464"
      ]
     },
     "execution_count": 28,
     "metadata": {},
     "output_type": "execute_result"
    }
   ],
   "source": [
    "df = pd.read_csv('../data/paper_mesh_feature.csv', sep='\\t')\n",
    "df.head()"
   ]
  },
  {
   "cell_type": "code",
   "execution_count": 29,
   "metadata": {},
   "outputs": [
    {
     "data": {
      "text/plain": [
       "2626593"
      ]
     },
     "execution_count": 29,
     "metadata": {},
     "output_type": "execute_result"
    }
   ],
   "source": [
    "pid_with_mesh = set(df.PID)\n",
    "len(pid_with_mesh)"
   ]
  },
  {
   "cell_type": "code",
   "execution_count": 30,
   "metadata": {},
   "outputs": [
    {
     "data": {
      "text/plain": [
       "2018697"
      ]
     },
     "execution_count": 30,
     "metadata": {},
     "output_type": "execute_result"
    }
   ],
   "source": [
    "pid_multi = set(pd.read_csv('../data/multi_author.csv', usecols=['PID']).PID)\n",
    "len(pid_multi)"
   ]
  },
  {
   "cell_type": "code",
   "execution_count": 32,
   "metadata": {},
   "outputs": [
    {
     "data": {
      "text/plain": [
       "745010"
      ]
     },
     "execution_count": 32,
     "metadata": {},
     "output_type": "execute_result"
    }
   ],
   "source": [
    "len(pid_multi - pid_with_mesh)"
   ]
  },
  {
   "cell_type": "code",
   "execution_count": 33,
   "metadata": {},
   "outputs": [
    {
     "data": {
      "text/plain": [
       "1273687"
      ]
     },
     "execution_count": 33,
     "metadata": {},
     "output_type": "execute_result"
    }
   ],
   "source": [
    "len(pid_multi & pid_with_mesh)"
   ]
  },
  {
   "cell_type": "code",
   "execution_count": 34,
   "metadata": {},
   "outputs": [],
   "source": [
    "multi_df = pd.read_csv('../data/multi_author.csv')\n",
    "mesh_df = pd.read_csv('../data/paper_mesh_feature.csv', sep='\\t')"
   ]
  },
  {
   "cell_type": "code",
   "execution_count": 35,
   "metadata": {},
   "outputs": [
    {
     "data": {
      "text/html": [
       "<div>\n",
       "<style scoped>\n",
       "    .dataframe tbody tr th:only-of-type {\n",
       "        vertical-align: middle;\n",
       "    }\n",
       "\n",
       "    .dataframe tbody tr th {\n",
       "        vertical-align: top;\n",
       "    }\n",
       "\n",
       "    .dataframe thead th {\n",
       "        text-align: right;\n",
       "    }\n",
       "</style>\n",
       "<table border=\"1\" class=\"dataframe\">\n",
       "  <thead>\n",
       "    <tr style=\"text-align: right;\">\n",
       "      <th></th>\n",
       "      <th>PID</th>\n",
       "      <th>F_FIRST_MESH</th>\n",
       "      <th>F_LAST_MESH</th>\n",
       "    </tr>\n",
       "  </thead>\n",
       "  <tbody>\n",
       "    <tr>\n",
       "      <th>0</th>\n",
       "      <td>59131259</td>\n",
       "      <td>0.402523</td>\n",
       "      <td>0.228749</td>\n",
       "    </tr>\n",
       "    <tr>\n",
       "      <th>1</th>\n",
       "      <td>47776068</td>\n",
       "      <td>0.459175</td>\n",
       "      <td>0.345174</td>\n",
       "    </tr>\n",
       "    <tr>\n",
       "      <th>2</th>\n",
       "      <td>46225070</td>\n",
       "      <td>0.410134</td>\n",
       "      <td>0.280091</td>\n",
       "    </tr>\n",
       "    <tr>\n",
       "      <th>3</th>\n",
       "      <td>56668249</td>\n",
       "      <td>0.483224</td>\n",
       "      <td>0.301751</td>\n",
       "    </tr>\n",
       "    <tr>\n",
       "      <th>4</th>\n",
       "      <td>55249873</td>\n",
       "      <td>0.370968</td>\n",
       "      <td>0.240464</td>\n",
       "    </tr>\n",
       "  </tbody>\n",
       "</table>\n",
       "</div>"
      ],
      "text/plain": [
       "        PID  F_FIRST_MESH  F_LAST_MESH\n",
       "0  59131259      0.402523     0.228749\n",
       "1  47776068      0.459175     0.345174\n",
       "2  46225070      0.410134     0.280091\n",
       "3  56668249      0.483224     0.301751\n",
       "4  55249873      0.370968     0.240464"
      ]
     },
     "execution_count": 35,
     "metadata": {},
     "output_type": "execute_result"
    }
   ],
   "source": [
    "mesh_df.head()"
   ]
  },
  {
   "cell_type": "code",
   "execution_count": 36,
   "metadata": {},
   "outputs": [
    {
     "data": {
      "text/html": [
       "<div>\n",
       "<style scoped>\n",
       "    .dataframe tbody tr th:only-of-type {\n",
       "        vertical-align: middle;\n",
       "    }\n",
       "\n",
       "    .dataframe tbody tr th {\n",
       "        vertical-align: top;\n",
       "    }\n",
       "\n",
       "    .dataframe thead th {\n",
       "        text-align: right;\n",
       "    }\n",
       "</style>\n",
       "<table border=\"1\" class=\"dataframe\">\n",
       "  <thead>\n",
       "    <tr style=\"text-align: right;\">\n",
       "      <th></th>\n",
       "      <th>PID</th>\n",
       "      <th>YEAR</th>\n",
       "      <th>MAIN_COUNTRY</th>\n",
       "      <th>N_AUTHORS</th>\n",
       "      <th>N_ADDRESSES</th>\n",
       "      <th>N_REFS</th>\n",
       "      <th>VENUE</th>\n",
       "      <th>IF</th>\n",
       "      <th>N_CITATIONS</th>\n",
       "      <th>GENDER_TOPIC</th>\n",
       "      <th>GENDER_FIRST</th>\n",
       "      <th>GENDER_LAST</th>\n",
       "      <th>FEMALE_FRACTION</th>\n",
       "      <th>MALE_FRACTION</th>\n",
       "      <th>DISCIPLINE</th>\n",
       "      <th>SUBDISCIPLINE</th>\n",
       "      <th>COUNTRY</th>\n",
       "      <th>CONTINENT</th>\n",
       "    </tr>\n",
       "  </thead>\n",
       "  <tbody>\n",
       "    <tr>\n",
       "      <th>0</th>\n",
       "      <td>29496694</td>\n",
       "      <td>2008</td>\n",
       "      <td>United States</td>\n",
       "      <td>5</td>\n",
       "      <td>1</td>\n",
       "      <td>14</td>\n",
       "      <td>ADVANCES IN EXPERIMENTAL MEDICINE AND BIOLOGY</td>\n",
       "      <td>1.059</td>\n",
       "      <td>5</td>\n",
       "      <td>N</td>\n",
       "      <td>M</td>\n",
       "      <td>M</td>\n",
       "      <td>0.200</td>\n",
       "      <td>0.800</td>\n",
       "      <td>Biomedical Research</td>\n",
       "      <td>Biochemistry &amp; Molecular Biology</td>\n",
       "      <td>United States</td>\n",
       "      <td>Northern America</td>\n",
       "    </tr>\n",
       "    <tr>\n",
       "      <th>1</th>\n",
       "      <td>29503162</td>\n",
       "      <td>2008</td>\n",
       "      <td>Netherlands</td>\n",
       "      <td>5</td>\n",
       "      <td>3</td>\n",
       "      <td>49</td>\n",
       "      <td>EXPERIMENTAL BRAIN RESEARCH</td>\n",
       "      <td>1.812</td>\n",
       "      <td>81</td>\n",
       "      <td>B</td>\n",
       "      <td>F</td>\n",
       "      <td>M</td>\n",
       "      <td>0.400</td>\n",
       "      <td>0.600</td>\n",
       "      <td>Clinical Medicine</td>\n",
       "      <td>Neurology &amp; Neurosurgery</td>\n",
       "      <td>Netherlands</td>\n",
       "      <td>Europe</td>\n",
       "    </tr>\n",
       "    <tr>\n",
       "      <th>2</th>\n",
       "      <td>29503166</td>\n",
       "      <td>2008</td>\n",
       "      <td>United States</td>\n",
       "      <td>4</td>\n",
       "      <td>5</td>\n",
       "      <td>154</td>\n",
       "      <td>HEART FAILURE REVIEWS</td>\n",
       "      <td>3.485</td>\n",
       "      <td>53</td>\n",
       "      <td>N</td>\n",
       "      <td>M</td>\n",
       "      <td>M</td>\n",
       "      <td>0.333</td>\n",
       "      <td>0.667</td>\n",
       "      <td>Clinical Medicine</td>\n",
       "      <td>Cardiovascular System</td>\n",
       "      <td>United States</td>\n",
       "      <td>Northern America</td>\n",
       "    </tr>\n",
       "    <tr>\n",
       "      <th>3</th>\n",
       "      <td>29503169</td>\n",
       "      <td>2008</td>\n",
       "      <td>United States</td>\n",
       "      <td>2</td>\n",
       "      <td>2</td>\n",
       "      <td>85</td>\n",
       "      <td>HEART FAILURE REVIEWS</td>\n",
       "      <td>3.485</td>\n",
       "      <td>45</td>\n",
       "      <td>N</td>\n",
       "      <td>M</td>\n",
       "      <td>M</td>\n",
       "      <td>NaN</td>\n",
       "      <td>1.000</td>\n",
       "      <td>Clinical Medicine</td>\n",
       "      <td>Cardiovascular System</td>\n",
       "      <td>United States</td>\n",
       "      <td>Northern America</td>\n",
       "    </tr>\n",
       "    <tr>\n",
       "      <th>4</th>\n",
       "      <td>29503196</td>\n",
       "      <td>2008</td>\n",
       "      <td>Germany</td>\n",
       "      <td>7</td>\n",
       "      <td>5</td>\n",
       "      <td>28</td>\n",
       "      <td>INTERNATIONAL JOURNAL OF LEGAL MEDICINE</td>\n",
       "      <td>1.561</td>\n",
       "      <td>1</td>\n",
       "      <td>N</td>\n",
       "      <td>F</td>\n",
       "      <td>M</td>\n",
       "      <td>0.857</td>\n",
       "      <td>0.143</td>\n",
       "      <td>Biomedical Research</td>\n",
       "      <td>Miscellaneous Biomedical Research</td>\n",
       "      <td>Germany</td>\n",
       "      <td>Europe</td>\n",
       "    </tr>\n",
       "  </tbody>\n",
       "</table>\n",
       "</div>"
      ],
      "text/plain": [
       "        PID  YEAR   MAIN_COUNTRY  N_AUTHORS  N_ADDRESSES  N_REFS  \\\n",
       "0  29496694  2008  United States          5            1      14   \n",
       "1  29503162  2008    Netherlands          5            3      49   \n",
       "2  29503166  2008  United States          4            5     154   \n",
       "3  29503169  2008  United States          2            2      85   \n",
       "4  29503196  2008        Germany          7            5      28   \n",
       "\n",
       "                                           VENUE     IF  N_CITATIONS  \\\n",
       "0  ADVANCES IN EXPERIMENTAL MEDICINE AND BIOLOGY  1.059            5   \n",
       "1                    EXPERIMENTAL BRAIN RESEARCH  1.812           81   \n",
       "2                          HEART FAILURE REVIEWS  3.485           53   \n",
       "3                          HEART FAILURE REVIEWS  3.485           45   \n",
       "4        INTERNATIONAL JOURNAL OF LEGAL MEDICINE  1.561            1   \n",
       "\n",
       "  GENDER_TOPIC GENDER_FIRST GENDER_LAST  FEMALE_FRACTION  MALE_FRACTION  \\\n",
       "0            N            M           M            0.200          0.800   \n",
       "1            B            F           M            0.400          0.600   \n",
       "2            N            M           M            0.333          0.667   \n",
       "3            N            M           M              NaN          1.000   \n",
       "4            N            F           M            0.857          0.143   \n",
       "\n",
       "            DISCIPLINE                      SUBDISCIPLINE        COUNTRY  \\\n",
       "0  Biomedical Research   Biochemistry & Molecular Biology  United States   \n",
       "1    Clinical Medicine           Neurology & Neurosurgery    Netherlands   \n",
       "2    Clinical Medicine              Cardiovascular System  United States   \n",
       "3    Clinical Medicine              Cardiovascular System  United States   \n",
       "4  Biomedical Research  Miscellaneous Biomedical Research        Germany   \n",
       "\n",
       "          CONTINENT  \n",
       "0  Northern America  \n",
       "1            Europe  \n",
       "2  Northern America  \n",
       "3  Northern America  \n",
       "4            Europe  "
      ]
     },
     "execution_count": 36,
     "metadata": {},
     "output_type": "execute_result"
    }
   ],
   "source": [
    "multi_df.head()"
   ]
  },
  {
   "cell_type": "code",
   "execution_count": 39,
   "metadata": {},
   "outputs": [],
   "source": [
    "df = pd.merge(multi_df, mesh_df, on='PID', how='left')"
   ]
  },
  {
   "cell_type": "code",
   "execution_count": 40,
   "metadata": {},
   "outputs": [
    {
     "data": {
      "text/html": [
       "<div>\n",
       "<style scoped>\n",
       "    .dataframe tbody tr th:only-of-type {\n",
       "        vertical-align: middle;\n",
       "    }\n",
       "\n",
       "    .dataframe tbody tr th {\n",
       "        vertical-align: top;\n",
       "    }\n",
       "\n",
       "    .dataframe thead th {\n",
       "        text-align: right;\n",
       "    }\n",
       "</style>\n",
       "<table border=\"1\" class=\"dataframe\">\n",
       "  <thead>\n",
       "    <tr style=\"text-align: right;\">\n",
       "      <th></th>\n",
       "      <th>PID</th>\n",
       "      <th>YEAR</th>\n",
       "      <th>MAIN_COUNTRY</th>\n",
       "      <th>N_AUTHORS</th>\n",
       "      <th>N_ADDRESSES</th>\n",
       "      <th>N_REFS</th>\n",
       "      <th>VENUE</th>\n",
       "      <th>IF</th>\n",
       "      <th>N_CITATIONS</th>\n",
       "      <th>GENDER_TOPIC</th>\n",
       "      <th>GENDER_FIRST</th>\n",
       "      <th>GENDER_LAST</th>\n",
       "      <th>FEMALE_FRACTION</th>\n",
       "      <th>MALE_FRACTION</th>\n",
       "      <th>DISCIPLINE</th>\n",
       "      <th>SUBDISCIPLINE</th>\n",
       "      <th>COUNTRY</th>\n",
       "      <th>CONTINENT</th>\n",
       "      <th>F_FIRST_MESH</th>\n",
       "      <th>F_LAST_MESH</th>\n",
       "    </tr>\n",
       "  </thead>\n",
       "  <tbody>\n",
       "    <tr>\n",
       "      <th>0</th>\n",
       "      <td>29496694</td>\n",
       "      <td>2008</td>\n",
       "      <td>United States</td>\n",
       "      <td>5</td>\n",
       "      <td>1</td>\n",
       "      <td>14</td>\n",
       "      <td>ADVANCES IN EXPERIMENTAL MEDICINE AND BIOLOGY</td>\n",
       "      <td>1.059</td>\n",
       "      <td>5</td>\n",
       "      <td>N</td>\n",
       "      <td>M</td>\n",
       "      <td>M</td>\n",
       "      <td>0.200</td>\n",
       "      <td>0.800</td>\n",
       "      <td>Biomedical Research</td>\n",
       "      <td>Biochemistry &amp; Molecular Biology</td>\n",
       "      <td>United States</td>\n",
       "      <td>Northern America</td>\n",
       "      <td>0.526012</td>\n",
       "      <td>0.363168</td>\n",
       "    </tr>\n",
       "    <tr>\n",
       "      <th>1</th>\n",
       "      <td>29503162</td>\n",
       "      <td>2008</td>\n",
       "      <td>Netherlands</td>\n",
       "      <td>5</td>\n",
       "      <td>3</td>\n",
       "      <td>49</td>\n",
       "      <td>EXPERIMENTAL BRAIN RESEARCH</td>\n",
       "      <td>1.812</td>\n",
       "      <td>81</td>\n",
       "      <td>B</td>\n",
       "      <td>F</td>\n",
       "      <td>M</td>\n",
       "      <td>0.400</td>\n",
       "      <td>0.600</td>\n",
       "      <td>Clinical Medicine</td>\n",
       "      <td>Neurology &amp; Neurosurgery</td>\n",
       "      <td>Netherlands</td>\n",
       "      <td>Europe</td>\n",
       "      <td>0.490093</td>\n",
       "      <td>0.325603</td>\n",
       "    </tr>\n",
       "    <tr>\n",
       "      <th>2</th>\n",
       "      <td>29503166</td>\n",
       "      <td>2008</td>\n",
       "      <td>United States</td>\n",
       "      <td>4</td>\n",
       "      <td>5</td>\n",
       "      <td>154</td>\n",
       "      <td>HEART FAILURE REVIEWS</td>\n",
       "      <td>3.485</td>\n",
       "      <td>53</td>\n",
       "      <td>N</td>\n",
       "      <td>M</td>\n",
       "      <td>M</td>\n",
       "      <td>0.333</td>\n",
       "      <td>0.667</td>\n",
       "      <td>Clinical Medicine</td>\n",
       "      <td>Cardiovascular System</td>\n",
       "      <td>United States</td>\n",
       "      <td>Northern America</td>\n",
       "      <td>0.406392</td>\n",
       "      <td>0.265737</td>\n",
       "    </tr>\n",
       "    <tr>\n",
       "      <th>3</th>\n",
       "      <td>29503169</td>\n",
       "      <td>2008</td>\n",
       "      <td>United States</td>\n",
       "      <td>2</td>\n",
       "      <td>2</td>\n",
       "      <td>85</td>\n",
       "      <td>HEART FAILURE REVIEWS</td>\n",
       "      <td>3.485</td>\n",
       "      <td>45</td>\n",
       "      <td>N</td>\n",
       "      <td>M</td>\n",
       "      <td>M</td>\n",
       "      <td>NaN</td>\n",
       "      <td>1.000</td>\n",
       "      <td>Clinical Medicine</td>\n",
       "      <td>Cardiovascular System</td>\n",
       "      <td>United States</td>\n",
       "      <td>Northern America</td>\n",
       "      <td>0.386096</td>\n",
       "      <td>0.253887</td>\n",
       "    </tr>\n",
       "    <tr>\n",
       "      <th>4</th>\n",
       "      <td>29503196</td>\n",
       "      <td>2008</td>\n",
       "      <td>Germany</td>\n",
       "      <td>7</td>\n",
       "      <td>5</td>\n",
       "      <td>28</td>\n",
       "      <td>INTERNATIONAL JOURNAL OF LEGAL MEDICINE</td>\n",
       "      <td>1.561</td>\n",
       "      <td>1</td>\n",
       "      <td>N</td>\n",
       "      <td>F</td>\n",
       "      <td>M</td>\n",
       "      <td>0.857</td>\n",
       "      <td>0.143</td>\n",
       "      <td>Biomedical Research</td>\n",
       "      <td>Miscellaneous Biomedical Research</td>\n",
       "      <td>Germany</td>\n",
       "      <td>Europe</td>\n",
       "      <td>NaN</td>\n",
       "      <td>NaN</td>\n",
       "    </tr>\n",
       "  </tbody>\n",
       "</table>\n",
       "</div>"
      ],
      "text/plain": [
       "        PID  YEAR   MAIN_COUNTRY  N_AUTHORS  N_ADDRESSES  N_REFS  \\\n",
       "0  29496694  2008  United States          5            1      14   \n",
       "1  29503162  2008    Netherlands          5            3      49   \n",
       "2  29503166  2008  United States          4            5     154   \n",
       "3  29503169  2008  United States          2            2      85   \n",
       "4  29503196  2008        Germany          7            5      28   \n",
       "\n",
       "                                           VENUE     IF  N_CITATIONS  \\\n",
       "0  ADVANCES IN EXPERIMENTAL MEDICINE AND BIOLOGY  1.059            5   \n",
       "1                    EXPERIMENTAL BRAIN RESEARCH  1.812           81   \n",
       "2                          HEART FAILURE REVIEWS  3.485           53   \n",
       "3                          HEART FAILURE REVIEWS  3.485           45   \n",
       "4        INTERNATIONAL JOURNAL OF LEGAL MEDICINE  1.561            1   \n",
       "\n",
       "  GENDER_TOPIC GENDER_FIRST GENDER_LAST  FEMALE_FRACTION  MALE_FRACTION  \\\n",
       "0            N            M           M            0.200          0.800   \n",
       "1            B            F           M            0.400          0.600   \n",
       "2            N            M           M            0.333          0.667   \n",
       "3            N            M           M              NaN          1.000   \n",
       "4            N            F           M            0.857          0.143   \n",
       "\n",
       "            DISCIPLINE                      SUBDISCIPLINE        COUNTRY  \\\n",
       "0  Biomedical Research   Biochemistry & Molecular Biology  United States   \n",
       "1    Clinical Medicine           Neurology & Neurosurgery    Netherlands   \n",
       "2    Clinical Medicine              Cardiovascular System  United States   \n",
       "3    Clinical Medicine              Cardiovascular System  United States   \n",
       "4  Biomedical Research  Miscellaneous Biomedical Research        Germany   \n",
       "\n",
       "          CONTINENT  F_FIRST_MESH  F_LAST_MESH  \n",
       "0  Northern America      0.526012     0.363168  \n",
       "1            Europe      0.490093     0.325603  \n",
       "2  Northern America      0.406392     0.265737  \n",
       "3  Northern America      0.386096     0.253887  \n",
       "4            Europe           NaN          NaN  "
      ]
     },
     "execution_count": 40,
     "metadata": {},
     "output_type": "execute_result"
    }
   ],
   "source": [
    "df.head()"
   ]
  },
  {
   "cell_type": "code",
   "execution_count": 41,
   "metadata": {},
   "outputs": [
    {
     "data": {
      "text/plain": [
       "2018697"
      ]
     },
     "execution_count": 41,
     "metadata": {},
     "output_type": "execute_result"
    }
   ],
   "source": [
    "len(df)"
   ]
  },
  {
   "cell_type": "code",
   "execution_count": 43,
   "metadata": {},
   "outputs": [
    {
     "data": {
      "text/plain": [
       "0.4111967387594833"
      ]
     },
     "execution_count": 43,
     "metadata": {},
     "output_type": "execute_result"
    }
   ],
   "source": [
    "df.F_FIRST_MESH.mean()"
   ]
  },
  {
   "cell_type": "code",
   "execution_count": 44,
   "metadata": {},
   "outputs": [
    {
     "data": {
      "text/plain": [
       "745010"
      ]
     },
     "execution_count": 44,
     "metadata": {},
     "output_type": "execute_result"
    }
   ],
   "source": [
    "df.F_FIRST_MESH.isna().sum()"
   ]
  },
  {
   "cell_type": "code",
   "execution_count": 45,
   "metadata": {},
   "outputs": [
    {
     "data": {
      "text/plain": [
       "0.369054890357493"
      ]
     },
     "execution_count": 45,
     "metadata": {},
     "output_type": "execute_result"
    }
   ],
   "source": [
    "745010 / 2018697"
   ]
  },
  {
   "cell_type": "code",
   "execution_count": 47,
   "metadata": {},
   "outputs": [
    {
     "data": {
      "text/plain": [
       "<matplotlib.axes._subplots.AxesSubplot at 0x128997b38>"
      ]
     },
     "execution_count": 47,
     "metadata": {},
     "output_type": "execute_result"
    },
    {
     "data": {
      "image/png": "[encoded data removed]",
      "text/plain": [
       "<Figure size 432x288 with 1 Axes>"
      ]
     },
     "metadata": {},
     "output_type": "display_data"
    }
   ],
   "source": [
    "%matplotlib inline\n",
    "df.F_FIRST_MESH.hist()"
   ]
  },
  {
   "cell_type": "code",
   "execution_count": 48,
   "metadata": {},
   "outputs": [
    {
     "data": {
      "text/plain": [
       "<matplotlib.axes._subplots.AxesSubplot at 0x1289e4400>"
      ]
     },
     "execution_count": 48,
     "metadata": {},
     "output_type": "execute_result"
    },
    {
     "data": {
      "image/png": "[encoded data removed]",
      "text/plain": [
       "<Figure size 432x288 with 1 Axes>"
      ]
     },
     "metadata": {},
     "output_type": "display_data"
    }
   ],
   "source": [
    "df.F_LAST_MESH.hist()"
   ]
  },
  {
   "cell_type": "code",
   "execution_count": null,
   "metadata": {},
   "outputs": [],
   "source": []
  }
 ],
 "metadata": {
  "kernelspec": {
   "display_name": "genderXgender",
   "language": "python",
   "name": "genderxgender"
  },
  "language_info": {
   "codemirror_mode": {
    "name": "ipython",
    "version": 3
   },
   "file_extension": ".py",
   "mimetype": "text/x-python",
   "name": "python",
   "nbconvert_exporter": "python",
   "pygments_lexer": "ipython3",
   "version": "3.6.5"
  }
 },
 "nbformat": 4,
 "nbformat_minor": 2
}
