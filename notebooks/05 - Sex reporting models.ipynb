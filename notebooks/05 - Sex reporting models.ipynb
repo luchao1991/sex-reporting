{
 "cells": [
  {
   "cell_type": "code",
   "execution_count": 1,
   "metadata": {},
   "outputs": [],
   "source": [
    "import numpy as np\n",
    "import scipy.stats as stats\n",
    "\n",
    "# scipy deprecation workaround\n",
    "from scipy import stats\n",
    "stats.chisqprob = lambda chisq, df: stats.chi2.sf(chisq, df)\n",
    "\n",
    "import pandas as pd\n",
    "pd.options.mode.chained_assignment = None\n",
    "pd.set_option('display.float_format', lambda x: '%.3f' % x)\n",
    "\n",
    "import statsmodels.api as sm\n",
    "import statsmodels.formula.api as smf\n",
    "\n",
    "import matplotlib\n",
    "import matplotlib.pyplot as plt\n",
    "%matplotlib inline"
   ]
  },
  {
   "cell_type": "markdown",
   "metadata": {},
   "source": [
    "# Data preparation"
   ]
  },
  {
   "cell_type": "code",
   "execution_count": 2,
   "metadata": {},
   "outputs": [
    {
     "data": {
      "text/plain": [
       "2018697"
      ]
     },
     "execution_count": 2,
     "metadata": {},
     "output_type": "execute_result"
    }
   ],
   "source": [
    "reg_table_f = '../data/reg_table.csv'\n",
    "df = pd.read_csv(reg_table_f)\n",
    "len(df)"
   ]
  },
  {
   "cell_type": "code",
   "execution_count": 3,
   "metadata": {
    "scrolled": true
   },
   "outputs": [
    {
     "data": {
      "text/html": [
       "<div>\n",
       "<style scoped>\n",
       "    .dataframe tbody tr th:only-of-type {\n",
       "        vertical-align: middle;\n",
       "    }\n",
       "\n",
       "    .dataframe tbody tr th {\n",
       "        vertical-align: top;\n",
       "    }\n",
       "\n",
       "    .dataframe thead th {\n",
       "        text-align: right;\n",
       "    }\n",
       "</style>\n",
       "<table border=\"1\" class=\"dataframe\">\n",
       "  <thead>\n",
       "    <tr style=\"text-align: right;\">\n",
       "      <th></th>\n",
       "      <th>PID</th>\n",
       "      <th>YEAR</th>\n",
       "      <th>MAIN_COUNTRY</th>\n",
       "      <th>N_AUTHORS</th>\n",
       "      <th>N_ADDRESSES</th>\n",
       "      <th>N_REFS</th>\n",
       "      <th>VENUE</th>\n",
       "      <th>IF</th>\n",
       "      <th>N_CITATIONS</th>\n",
       "      <th>GENDER_TOPIC</th>\n",
       "      <th>...</th>\n",
       "      <th>F_LAST_MESH</th>\n",
       "      <th>F_FIRST_MAIN_COUNTRY</th>\n",
       "      <th>F_LAST_MAIN_COUNTRY</th>\n",
       "      <th>GENDER_FL</th>\n",
       "      <th>F_MESH</th>\n",
       "      <th>F_COUNTRY</th>\n",
       "      <th>SRA</th>\n",
       "      <th>SRM</th>\n",
       "      <th>SRF</th>\n",
       "      <th>SRB</th>\n",
       "    </tr>\n",
       "  </thead>\n",
       "  <tbody>\n",
       "    <tr>\n",
       "      <th>0</th>\n",
       "      <td>29496694</td>\n",
       "      <td>2008</td>\n",
       "      <td>United States</td>\n",
       "      <td>5</td>\n",
       "      <td>1</td>\n",
       "      <td>14</td>\n",
       "      <td>ADVANCES IN EXPERIMENTAL MEDICINE AND BIOLOGY</td>\n",
       "      <td>1.059</td>\n",
       "      <td>5</td>\n",
       "      <td>A</td>\n",
       "      <td>...</td>\n",
       "      <td>0.363</td>\n",
       "      <td>0.416</td>\n",
       "      <td>0.285</td>\n",
       "      <td>AA</td>\n",
       "      <td>0.445</td>\n",
       "      <td>0.351</td>\n",
       "      <td>0</td>\n",
       "      <td>0</td>\n",
       "      <td>0</td>\n",
       "      <td>0</td>\n",
       "    </tr>\n",
       "    <tr>\n",
       "      <th>1</th>\n",
       "      <td>29503162</td>\n",
       "      <td>2008</td>\n",
       "      <td>Netherlands</td>\n",
       "      <td>5</td>\n",
       "      <td>3</td>\n",
       "      <td>49</td>\n",
       "      <td>EXPERIMENTAL BRAIN RESEARCH</td>\n",
       "      <td>1.812</td>\n",
       "      <td>81</td>\n",
       "      <td>B</td>\n",
       "      <td>...</td>\n",
       "      <td>0.326</td>\n",
       "      <td>0.536</td>\n",
       "      <td>0.272</td>\n",
       "      <td>FA</td>\n",
       "      <td>0.408</td>\n",
       "      <td>0.404</td>\n",
       "      <td>1</td>\n",
       "      <td>1</td>\n",
       "      <td>1</td>\n",
       "      <td>1</td>\n",
       "    </tr>\n",
       "  </tbody>\n",
       "</table>\n",
       "<p>2 rows × 29 columns</p>\n",
       "</div>"
      ],
      "text/plain": [
       "        PID  YEAR   MAIN_COUNTRY  N_AUTHORS  N_ADDRESSES  N_REFS  \\\n",
       "0  29496694  2008  United States          5            1      14   \n",
       "1  29503162  2008    Netherlands          5            3      49   \n",
       "\n",
       "                                           VENUE    IF  N_CITATIONS  \\\n",
       "0  ADVANCES IN EXPERIMENTAL MEDICINE AND BIOLOGY 1.059            5   \n",
       "1                    EXPERIMENTAL BRAIN RESEARCH 1.812           81   \n",
       "\n",
       "  GENDER_TOPIC ...  F_LAST_MESH F_FIRST_MAIN_COUNTRY  F_LAST_MAIN_COUNTRY  \\\n",
       "0            A ...        0.363                0.416                0.285   \n",
       "1            B ...        0.326                0.536                0.272   \n",
       "\n",
       "   GENDER_FL F_MESH F_COUNTRY SRA SRM  SRF  SRB  \n",
       "0         AA  0.445     0.351   0   0    0    0  \n",
       "1         FA  0.408     0.404   1   1    1    1  \n",
       "\n",
       "[2 rows x 29 columns]"
      ]
     },
     "execution_count": 3,
     "metadata": {},
     "output_type": "execute_result"
    }
   ],
   "source": [
    "df.head(2)"
   ]
  },
  {
   "cell_type": "code",
   "execution_count": 4,
   "metadata": {},
   "outputs": [
    {
     "data": {
      "text/plain": [
       "Index(['PID', 'YEAR', 'MAIN_COUNTRY', 'N_AUTHORS', 'N_ADDRESSES', 'N_REFS',\n",
       "       'VENUE', 'IF', 'N_CITATIONS', 'GENDER_TOPIC', 'GENDER_FIRST',\n",
       "       'GENDER_LAST', 'FEMALE_FRACTION', 'MALE_FRACTION', 'DISCIPLINE',\n",
       "       'SUBDISCIPLINE', 'COUNTRY', 'CONTINENT', 'F_FIRST_MESH', 'F_LAST_MESH',\n",
       "       'F_FIRST_MAIN_COUNTRY', 'F_LAST_MAIN_COUNTRY', 'GENDER_FL', 'F_MESH',\n",
       "       'F_COUNTRY', 'SRA', 'SRM', 'SRF', 'SRB'],\n",
       "      dtype='object')"
      ]
     },
     "execution_count": 4,
     "metadata": {},
     "output_type": "execute_result"
    }
   ],
   "source": [
    "df.columns"
   ]
  },
  {
   "cell_type": "markdown",
   "metadata": {},
   "source": [
    "# Data exploration"
   ]
  },
  {
   "cell_type": "markdown",
   "metadata": {},
   "source": [
    "## Gender homophily\n",
    "\n",
    "Is there a gender-homophily between the first and the last author?"
   ]
  },
  {
   "cell_type": "code",
   "execution_count": 5,
   "metadata": {},
   "outputs": [
    {
     "data": {
      "text/html": [
       "<div>\n",
       "<style scoped>\n",
       "    .dataframe tbody tr th:only-of-type {\n",
       "        vertical-align: middle;\n",
       "    }\n",
       "\n",
       "    .dataframe tbody tr th {\n",
       "        vertical-align: top;\n",
       "    }\n",
       "\n",
       "    .dataframe thead th {\n",
       "        text-align: right;\n",
       "    }\n",
       "</style>\n",
       "<table border=\"1\" class=\"dataframe\">\n",
       "  <thead>\n",
       "    <tr style=\"text-align: right;\">\n",
       "      <th>GENDER_LAST</th>\n",
       "      <th>A</th>\n",
       "      <th>F</th>\n",
       "    </tr>\n",
       "    <tr>\n",
       "      <th>GENDER_FIRST</th>\n",
       "      <th></th>\n",
       "      <th></th>\n",
       "    </tr>\n",
       "  </thead>\n",
       "  <tbody>\n",
       "    <tr>\n",
       "      <th>A</th>\n",
       "      <td>900858</td>\n",
       "      <td>267145</td>\n",
       "    </tr>\n",
       "    <tr>\n",
       "      <th>F</th>\n",
       "      <td>552599</td>\n",
       "      <td>298095</td>\n",
       "    </tr>\n",
       "  </tbody>\n",
       "</table>\n",
       "</div>"
      ],
      "text/plain": [
       "GENDER_LAST        A       F\n",
       "GENDER_FIRST                \n",
       "A             900858  267145\n",
       "F             552599  298095"
      ]
     },
     "execution_count": 5,
     "metadata": {},
     "output_type": "execute_result"
    }
   ],
   "source": [
    "ct = pd.crosstab(df.GENDER_FIRST, df.GENDER_LAST)\n",
    "ct"
   ]
  },
  {
   "cell_type": "code",
   "execution_count": 6,
   "metadata": {},
   "outputs": [
    {
     "name": "stdout",
     "output_type": "stream",
     "text": [
      "p-value: 0.0\n",
      "[[840959.35961217 327043.64038783]\n",
      " [612497.64038783 238196.35961217]]\n"
     ]
    }
   ],
   "source": [
    "chi2, p, dof, expected = stats.chi2_contingency(ct)\n",
    "print('p-value:', p)\n",
    "print(expected)"
   ]
  },
  {
   "cell_type": "markdown",
   "metadata": {},
   "source": [
    "Yes. Let's see the crosstab of author gender and sex reporting. "
   ]
  },
  {
   "cell_type": "code",
   "execution_count": 7,
   "metadata": {},
   "outputs": [
    {
     "data": {
      "text/html": [
       "<div>\n",
       "<style scoped>\n",
       "    .dataframe tbody tr th:only-of-type {\n",
       "        vertical-align: middle;\n",
       "    }\n",
       "\n",
       "    .dataframe tbody tr th {\n",
       "        vertical-align: top;\n",
       "    }\n",
       "\n",
       "    .dataframe thead th {\n",
       "        text-align: right;\n",
       "    }\n",
       "</style>\n",
       "<table border=\"1\" class=\"dataframe\">\n",
       "  <thead>\n",
       "    <tr style=\"text-align: right;\">\n",
       "      <th>col_0</th>\n",
       "      <th>AA</th>\n",
       "      <th>AF</th>\n",
       "      <th>FA</th>\n",
       "      <th>FF</th>\n",
       "    </tr>\n",
       "    <tr>\n",
       "      <th>GENDER_TOPIC</th>\n",
       "      <th></th>\n",
       "      <th></th>\n",
       "      <th></th>\n",
       "      <th></th>\n",
       "    </tr>\n",
       "  </thead>\n",
       "  <tbody>\n",
       "    <tr>\n",
       "      <th>0</th>\n",
       "      <td>405917</td>\n",
       "      <td>119971</td>\n",
       "      <td>246861</td>\n",
       "      <td>117959</td>\n",
       "    </tr>\n",
       "    <tr>\n",
       "      <th>1</th>\n",
       "      <td>494941</td>\n",
       "      <td>147174</td>\n",
       "      <td>305738</td>\n",
       "      <td>180136</td>\n",
       "    </tr>\n",
       "  </tbody>\n",
       "</table>\n",
       "</div>"
      ],
      "text/plain": [
       "col_0             AA      AF      FA      FF\n",
       "GENDER_TOPIC                                \n",
       "0             405917  119971  246861  117959\n",
       "1             494941  147174  305738  180136"
      ]
     },
     "execution_count": 7,
     "metadata": {},
     "output_type": "execute_result"
    }
   ],
   "source": [
    "pd.crosstab(df.GENDER_TOPIC.replace(dict(A=0, B=1, M=1, F=1)), df.GENDER_FIRST + df.GENDER_LAST)"
   ]
  },
  {
   "cell_type": "code",
   "execution_count": 8,
   "metadata": {},
   "outputs": [
    {
     "data": {
      "text/plain": [
       "1    1127989\n",
       "0     890708\n",
       "Name: GENDER_TOPIC, dtype: int64"
      ]
     },
     "execution_count": 8,
     "metadata": {},
     "output_type": "execute_result"
    }
   ],
   "source": [
    "df.GENDER_TOPIC.replace(dict(A=0, B=1, M=1, F=1)).value_counts()"
   ]
  },
  {
   "cell_type": "code",
   "execution_count": 9,
   "metadata": {},
   "outputs": [
    {
     "data": {
      "text/plain": [
       "0"
      ]
     },
     "execution_count": 9,
     "metadata": {},
     "output_type": "execute_result"
    }
   ],
   "source": [
    "df.GENDER_TOPIC.isna().sum()"
   ]
  },
  {
   "cell_type": "markdown",
   "metadata": {},
   "source": [
    "## MeSH features - missing data issue"
   ]
  },
  {
   "cell_type": "code",
   "execution_count": 10,
   "metadata": {},
   "outputs": [
    {
     "name": "stdout",
     "output_type": "stream",
     "text": [
      "Number of missing rows in F_FIRST_MESH: 745010 0.369054890357493\n",
      "Number of missing rows in F_LAST_MESH: 745010 0.369054890357493\n",
      "Remaining rows:  1273687\n"
     ]
    }
   ],
   "source": [
    "print('Number of missing rows in F_FIRST_MESH:', df.F_FIRST_MESH.isna().sum(), df.F_FIRST_MESH.isna().sum()/len(df))\n",
    "print('Number of missing rows in F_LAST_MESH:', df.F_LAST_MESH.isna().sum(), df.F_LAST_MESH.isna().sum()/len(df))\n",
    "print('Remaining rows: ', len(df) - df.F_LAST_MESH.isna().sum())"
   ]
  },
  {
   "cell_type": "markdown",
   "metadata": {},
   "source": [
    "About 37% of the rows (papers) do not have the MeSH features. This means that either (i) these papers do not have any disease MeSH terms or (ii) they have disease MeSH terms that are too rare to be associated with a value (female author fraction). We follow the previous study and ignores them. "
   ]
  },
  {
   "cell_type": "markdown",
   "metadata": {},
   "source": [
    "# Analysis "
   ]
  },
  {
   "cell_type": "markdown",
   "metadata": {},
   "source": [
    "## multicollinearity"
   ]
  },
  {
   "cell_type": "code",
   "execution_count": 11,
   "metadata": {},
   "outputs": [
    {
     "data": {
      "text/html": [
       "<div>\n",
       "<style scoped>\n",
       "    .dataframe tbody tr th:only-of-type {\n",
       "        vertical-align: middle;\n",
       "    }\n",
       "\n",
       "    .dataframe tbody tr th {\n",
       "        vertical-align: top;\n",
       "    }\n",
       "\n",
       "    .dataframe thead th {\n",
       "        text-align: right;\n",
       "    }\n",
       "</style>\n",
       "<table border=\"1\" class=\"dataframe\">\n",
       "  <thead>\n",
       "    <tr style=\"text-align: right;\">\n",
       "      <th></th>\n",
       "      <th>PID</th>\n",
       "      <th>YEAR</th>\n",
       "      <th>MAIN_COUNTRY</th>\n",
       "      <th>N_AUTHORS</th>\n",
       "      <th>N_ADDRESSES</th>\n",
       "      <th>N_REFS</th>\n",
       "      <th>VENUE</th>\n",
       "      <th>IF</th>\n",
       "      <th>N_CITATIONS</th>\n",
       "      <th>GENDER_TOPIC</th>\n",
       "      <th>...</th>\n",
       "      <th>F_LAST_MESH</th>\n",
       "      <th>F_FIRST_MAIN_COUNTRY</th>\n",
       "      <th>F_LAST_MAIN_COUNTRY</th>\n",
       "      <th>GENDER_FL</th>\n",
       "      <th>F_MESH</th>\n",
       "      <th>F_COUNTRY</th>\n",
       "      <th>SRA</th>\n",
       "      <th>SRM</th>\n",
       "      <th>SRF</th>\n",
       "      <th>SRB</th>\n",
       "    </tr>\n",
       "  </thead>\n",
       "  <tbody>\n",
       "    <tr>\n",
       "      <th>0</th>\n",
       "      <td>29496694</td>\n",
       "      <td>2008</td>\n",
       "      <td>United States</td>\n",
       "      <td>5</td>\n",
       "      <td>1</td>\n",
       "      <td>14</td>\n",
       "      <td>ADVANCES IN EXPERIMENTAL MEDICINE AND BIOLOGY</td>\n",
       "      <td>1.059</td>\n",
       "      <td>5</td>\n",
       "      <td>A</td>\n",
       "      <td>...</td>\n",
       "      <td>0.363</td>\n",
       "      <td>0.416</td>\n",
       "      <td>0.285</td>\n",
       "      <td>AA</td>\n",
       "      <td>0.445</td>\n",
       "      <td>0.351</td>\n",
       "      <td>0</td>\n",
       "      <td>0</td>\n",
       "      <td>0</td>\n",
       "      <td>0</td>\n",
       "    </tr>\n",
       "    <tr>\n",
       "      <th>1</th>\n",
       "      <td>29503162</td>\n",
       "      <td>2008</td>\n",
       "      <td>Netherlands</td>\n",
       "      <td>5</td>\n",
       "      <td>3</td>\n",
       "      <td>49</td>\n",
       "      <td>EXPERIMENTAL BRAIN RESEARCH</td>\n",
       "      <td>1.812</td>\n",
       "      <td>81</td>\n",
       "      <td>B</td>\n",
       "      <td>...</td>\n",
       "      <td>0.326</td>\n",
       "      <td>0.536</td>\n",
       "      <td>0.272</td>\n",
       "      <td>FA</td>\n",
       "      <td>0.408</td>\n",
       "      <td>0.404</td>\n",
       "      <td>1</td>\n",
       "      <td>1</td>\n",
       "      <td>1</td>\n",
       "      <td>1</td>\n",
       "    </tr>\n",
       "    <tr>\n",
       "      <th>2</th>\n",
       "      <td>29503166</td>\n",
       "      <td>2008</td>\n",
       "      <td>United States</td>\n",
       "      <td>4</td>\n",
       "      <td>5</td>\n",
       "      <td>154</td>\n",
       "      <td>HEART FAILURE REVIEWS</td>\n",
       "      <td>3.485</td>\n",
       "      <td>53</td>\n",
       "      <td>A</td>\n",
       "      <td>...</td>\n",
       "      <td>0.266</td>\n",
       "      <td>0.416</td>\n",
       "      <td>0.285</td>\n",
       "      <td>AA</td>\n",
       "      <td>0.336</td>\n",
       "      <td>0.351</td>\n",
       "      <td>0</td>\n",
       "      <td>0</td>\n",
       "      <td>0</td>\n",
       "      <td>0</td>\n",
       "    </tr>\n",
       "    <tr>\n",
       "      <th>3</th>\n",
       "      <td>29503169</td>\n",
       "      <td>2008</td>\n",
       "      <td>United States</td>\n",
       "      <td>2</td>\n",
       "      <td>2</td>\n",
       "      <td>85</td>\n",
       "      <td>HEART FAILURE REVIEWS</td>\n",
       "      <td>3.485</td>\n",
       "      <td>45</td>\n",
       "      <td>A</td>\n",
       "      <td>...</td>\n",
       "      <td>0.254</td>\n",
       "      <td>0.416</td>\n",
       "      <td>0.285</td>\n",
       "      <td>AA</td>\n",
       "      <td>0.320</td>\n",
       "      <td>0.351</td>\n",
       "      <td>0</td>\n",
       "      <td>0</td>\n",
       "      <td>0</td>\n",
       "      <td>0</td>\n",
       "    </tr>\n",
       "    <tr>\n",
       "      <th>4</th>\n",
       "      <td>29503196</td>\n",
       "      <td>2008</td>\n",
       "      <td>Germany</td>\n",
       "      <td>7</td>\n",
       "      <td>5</td>\n",
       "      <td>28</td>\n",
       "      <td>INTERNATIONAL JOURNAL OF LEGAL MEDICINE</td>\n",
       "      <td>1.561</td>\n",
       "      <td>1</td>\n",
       "      <td>A</td>\n",
       "      <td>...</td>\n",
       "      <td>nan</td>\n",
       "      <td>0.403</td>\n",
       "      <td>0.196</td>\n",
       "      <td>FA</td>\n",
       "      <td>nan</td>\n",
       "      <td>0.299</td>\n",
       "      <td>0</td>\n",
       "      <td>0</td>\n",
       "      <td>0</td>\n",
       "      <td>0</td>\n",
       "    </tr>\n",
       "  </tbody>\n",
       "</table>\n",
       "<p>5 rows × 29 columns</p>\n",
       "</div>"
      ],
      "text/plain": [
       "        PID  YEAR   MAIN_COUNTRY  N_AUTHORS  N_ADDRESSES  N_REFS  \\\n",
       "0  29496694  2008  United States          5            1      14   \n",
       "1  29503162  2008    Netherlands          5            3      49   \n",
       "2  29503166  2008  United States          4            5     154   \n",
       "3  29503169  2008  United States          2            2      85   \n",
       "4  29503196  2008        Germany          7            5      28   \n",
       "\n",
       "                                           VENUE    IF  N_CITATIONS  \\\n",
       "0  ADVANCES IN EXPERIMENTAL MEDICINE AND BIOLOGY 1.059            5   \n",
       "1                    EXPERIMENTAL BRAIN RESEARCH 1.812           81   \n",
       "2                          HEART FAILURE REVIEWS 3.485           53   \n",
       "3                          HEART FAILURE REVIEWS 3.485           45   \n",
       "4        INTERNATIONAL JOURNAL OF LEGAL MEDICINE 1.561            1   \n",
       "\n",
       "  GENDER_TOPIC ...  F_LAST_MESH F_FIRST_MAIN_COUNTRY  F_LAST_MAIN_COUNTRY  \\\n",
       "0            A ...        0.363                0.416                0.285   \n",
       "1            B ...        0.326                0.536                0.272   \n",
       "2            A ...        0.266                0.416                0.285   \n",
       "3            A ...        0.254                0.416                0.285   \n",
       "4            A ...          nan                0.403                0.196   \n",
       "\n",
       "   GENDER_FL F_MESH F_COUNTRY SRA SRM  SRF  SRB  \n",
       "0         AA  0.445     0.351   0   0    0    0  \n",
       "1         FA  0.408     0.404   1   1    1    1  \n",
       "2         AA  0.336     0.351   0   0    0    0  \n",
       "3         AA  0.320     0.351   0   0    0    0  \n",
       "4         FA    nan     0.299   0   0    0    0  \n",
       "\n",
       "[5 rows x 29 columns]"
      ]
     },
     "execution_count": 11,
     "metadata": {},
     "output_type": "execute_result"
    }
   ],
   "source": [
    "df.head()"
   ]
  },
  {
   "cell_type": "code",
   "execution_count": 12,
   "metadata": {},
   "outputs": [
    {
     "data": {
      "text/html": [
       "<div>\n",
       "<style scoped>\n",
       "    .dataframe tbody tr th:only-of-type {\n",
       "        vertical-align: middle;\n",
       "    }\n",
       "\n",
       "    .dataframe tbody tr th {\n",
       "        vertical-align: top;\n",
       "    }\n",
       "\n",
       "    .dataframe thead th {\n",
       "        text-align: right;\n",
       "    }\n",
       "</style>\n",
       "<table border=\"1\" class=\"dataframe\">\n",
       "  <thead>\n",
       "    <tr style=\"text-align: right;\">\n",
       "      <th></th>\n",
       "      <th>GENDER_FL</th>\n",
       "      <th>YEAR</th>\n",
       "      <th>N_AUTHORS</th>\n",
       "      <th>CONTINENT</th>\n",
       "      <th>F_FIRST_MESH</th>\n",
       "      <th>F_LAST_MESH</th>\n",
       "      <th>F_FIRST_MAIN_COUNTRY</th>\n",
       "      <th>F_LAST_MAIN_COUNTRY</th>\n",
       "    </tr>\n",
       "  </thead>\n",
       "  <tbody>\n",
       "    <tr>\n",
       "      <th>0</th>\n",
       "      <td>AA</td>\n",
       "      <td>2008</td>\n",
       "      <td>5</td>\n",
       "      <td>AA</td>\n",
       "      <td>0.526</td>\n",
       "      <td>0.363</td>\n",
       "      <td>0.416</td>\n",
       "      <td>0.285</td>\n",
       "    </tr>\n",
       "    <tr>\n",
       "      <th>1</th>\n",
       "      <td>FA</td>\n",
       "      <td>2008</td>\n",
       "      <td>5</td>\n",
       "      <td>Europe</td>\n",
       "      <td>0.490</td>\n",
       "      <td>0.326</td>\n",
       "      <td>0.536</td>\n",
       "      <td>0.272</td>\n",
       "    </tr>\n",
       "    <tr>\n",
       "      <th>2</th>\n",
       "      <td>AA</td>\n",
       "      <td>2008</td>\n",
       "      <td>4</td>\n",
       "      <td>AA</td>\n",
       "      <td>0.406</td>\n",
       "      <td>0.266</td>\n",
       "      <td>0.416</td>\n",
       "      <td>0.285</td>\n",
       "    </tr>\n",
       "    <tr>\n",
       "      <th>3</th>\n",
       "      <td>AA</td>\n",
       "      <td>2008</td>\n",
       "      <td>2</td>\n",
       "      <td>AA</td>\n",
       "      <td>0.386</td>\n",
       "      <td>0.254</td>\n",
       "      <td>0.416</td>\n",
       "      <td>0.285</td>\n",
       "    </tr>\n",
       "    <tr>\n",
       "      <th>4</th>\n",
       "      <td>FA</td>\n",
       "      <td>2008</td>\n",
       "      <td>7</td>\n",
       "      <td>Europe</td>\n",
       "      <td>nan</td>\n",
       "      <td>nan</td>\n",
       "      <td>0.403</td>\n",
       "      <td>0.196</td>\n",
       "    </tr>\n",
       "  </tbody>\n",
       "</table>\n",
       "</div>"
      ],
      "text/plain": [
       "  GENDER_FL  YEAR  N_AUTHORS CONTINENT  F_FIRST_MESH  F_LAST_MESH  \\\n",
       "0        AA  2008          5        AA         0.526        0.363   \n",
       "1        FA  2008          5    Europe         0.490        0.326   \n",
       "2        AA  2008          4        AA         0.406        0.266   \n",
       "3        AA  2008          2        AA         0.386        0.254   \n",
       "4        FA  2008          7    Europe           nan          nan   \n",
       "\n",
       "   F_FIRST_MAIN_COUNTRY  F_LAST_MAIN_COUNTRY  \n",
       "0                 0.416                0.285  \n",
       "1                 0.536                0.272  \n",
       "2                 0.416                0.285  \n",
       "3                 0.416                0.285  \n",
       "4                 0.403                0.196  "
      ]
     },
     "execution_count": 12,
     "metadata": {},
     "output_type": "execute_result"
    }
   ],
   "source": [
    "temp = df[['GENDER_FL', 'YEAR', 'N_AUTHORS', 'CONTINENT', 'F_FIRST_MESH', 'F_LAST_MESH', 'F_FIRST_MAIN_COUNTRY', 'F_LAST_MAIN_COUNTRY']]\n",
    "temp.head()"
   ]
  },
  {
   "cell_type": "code",
   "execution_count": 13,
   "metadata": {},
   "outputs": [
    {
     "data": {
      "text/html": [
       "<div>\n",
       "<style scoped>\n",
       "    .dataframe tbody tr th:only-of-type {\n",
       "        vertical-align: middle;\n",
       "    }\n",
       "\n",
       "    .dataframe tbody tr th {\n",
       "        vertical-align: top;\n",
       "    }\n",
       "\n",
       "    .dataframe thead th {\n",
       "        text-align: right;\n",
       "    }\n",
       "</style>\n",
       "<table border=\"1\" class=\"dataframe\">\n",
       "  <thead>\n",
       "    <tr style=\"text-align: right;\">\n",
       "      <th></th>\n",
       "      <th>YEAR</th>\n",
       "      <th>N_AUTHORS</th>\n",
       "      <th>F_FIRST_MESH</th>\n",
       "      <th>F_LAST_MESH</th>\n",
       "      <th>F_FIRST_MAIN_COUNTRY</th>\n",
       "      <th>F_LAST_MAIN_COUNTRY</th>\n",
       "    </tr>\n",
       "  </thead>\n",
       "  <tbody>\n",
       "    <tr>\n",
       "      <th>YEAR</th>\n",
       "      <td>1.000</td>\n",
       "      <td>0.086</td>\n",
       "      <td>-0.005</td>\n",
       "      <td>-0.002</td>\n",
       "      <td>-0.036</td>\n",
       "      <td>-0.002</td>\n",
       "    </tr>\n",
       "    <tr>\n",
       "      <th>N_AUTHORS</th>\n",
       "      <td>0.086</td>\n",
       "      <td>1.000</td>\n",
       "      <td>-0.031</td>\n",
       "      <td>-0.058</td>\n",
       "      <td>-0.121</td>\n",
       "      <td>-0.114</td>\n",
       "    </tr>\n",
       "    <tr>\n",
       "      <th>F_FIRST_MESH</th>\n",
       "      <td>-0.005</td>\n",
       "      <td>-0.031</td>\n",
       "      <td>1.000</td>\n",
       "      <td>0.919</td>\n",
       "      <td>0.123</td>\n",
       "      <td>0.114</td>\n",
       "    </tr>\n",
       "    <tr>\n",
       "      <th>F_LAST_MESH</th>\n",
       "      <td>-0.002</td>\n",
       "      <td>-0.058</td>\n",
       "      <td>0.919</td>\n",
       "      <td>1.000</td>\n",
       "      <td>0.122</td>\n",
       "      <td>0.120</td>\n",
       "    </tr>\n",
       "    <tr>\n",
       "      <th>F_FIRST_MAIN_COUNTRY</th>\n",
       "      <td>-0.036</td>\n",
       "      <td>-0.121</td>\n",
       "      <td>0.123</td>\n",
       "      <td>0.122</td>\n",
       "      <td>1.000</td>\n",
       "      <td>0.854</td>\n",
       "    </tr>\n",
       "    <tr>\n",
       "      <th>F_LAST_MAIN_COUNTRY</th>\n",
       "      <td>-0.002</td>\n",
       "      <td>-0.114</td>\n",
       "      <td>0.114</td>\n",
       "      <td>0.120</td>\n",
       "      <td>0.854</td>\n",
       "      <td>1.000</td>\n",
       "    </tr>\n",
       "  </tbody>\n",
       "</table>\n",
       "</div>"
      ],
      "text/plain": [
       "                       YEAR  N_AUTHORS  F_FIRST_MESH  F_LAST_MESH  \\\n",
       "YEAR                  1.000      0.086        -0.005       -0.002   \n",
       "N_AUTHORS             0.086      1.000        -0.031       -0.058   \n",
       "F_FIRST_MESH         -0.005     -0.031         1.000        0.919   \n",
       "F_LAST_MESH          -0.002     -0.058         0.919        1.000   \n",
       "F_FIRST_MAIN_COUNTRY -0.036     -0.121         0.123        0.122   \n",
       "F_LAST_MAIN_COUNTRY  -0.002     -0.114         0.114        0.120   \n",
       "\n",
       "                      F_FIRST_MAIN_COUNTRY  F_LAST_MAIN_COUNTRY  \n",
       "YEAR                                -0.036               -0.002  \n",
       "N_AUTHORS                           -0.121               -0.114  \n",
       "F_FIRST_MESH                         0.123                0.114  \n",
       "F_LAST_MESH                          0.122                0.120  \n",
       "F_FIRST_MAIN_COUNTRY                 1.000                0.854  \n",
       "F_LAST_MAIN_COUNTRY                  0.854                1.000  "
      ]
     },
     "execution_count": 13,
     "metadata": {},
     "output_type": "execute_result"
    }
   ],
   "source": [
    "temp.corr()"
   ]
  },
  {
   "cell_type": "code",
   "execution_count": 14,
   "metadata": {},
   "outputs": [
    {
     "data": {
      "text/plain": [
       "26.605093198002862"
      ]
     },
     "execution_count": 14,
     "metadata": {},
     "output_type": "execute_result"
    }
   ],
   "source": [
    "np.linalg.cond(temp.corr())"
   ]
  },
  {
   "cell_type": "markdown",
   "metadata": {},
   "source": [
    "Condition number is fairly large. There are strong correlations between F_FIRST and F_LAST. Let's create variables that by averaging them up. \n"
   ]
  },
  {
   "cell_type": "code",
   "execution_count": 15,
   "metadata": {},
   "outputs": [],
   "source": [
    "df['F_MESH'] = (df['F_FIRST_MESH'] + df['F_LAST_MESH']) / 2.0\n",
    "df['F_COUNTRY'] = (df['F_FIRST_MAIN_COUNTRY'] + df['F_LAST_MAIN_COUNTRY'])/2.0"
   ]
  },
  {
   "cell_type": "code",
   "execution_count": 16,
   "metadata": {},
   "outputs": [
    {
     "data": {
      "text/html": [
       "<div>\n",
       "<style scoped>\n",
       "    .dataframe tbody tr th:only-of-type {\n",
       "        vertical-align: middle;\n",
       "    }\n",
       "\n",
       "    .dataframe tbody tr th {\n",
       "        vertical-align: top;\n",
       "    }\n",
       "\n",
       "    .dataframe thead th {\n",
       "        text-align: right;\n",
       "    }\n",
       "</style>\n",
       "<table border=\"1\" class=\"dataframe\">\n",
       "  <thead>\n",
       "    <tr style=\"text-align: right;\">\n",
       "      <th></th>\n",
       "      <th>YEAR</th>\n",
       "      <th>N_AUTHORS</th>\n",
       "      <th>F_MESH</th>\n",
       "      <th>F_COUNTRY</th>\n",
       "    </tr>\n",
       "  </thead>\n",
       "  <tbody>\n",
       "    <tr>\n",
       "      <th>YEAR</th>\n",
       "      <td>1.000</td>\n",
       "      <td>0.086</td>\n",
       "      <td>-0.004</td>\n",
       "      <td>-0.022</td>\n",
       "    </tr>\n",
       "    <tr>\n",
       "      <th>N_AUTHORS</th>\n",
       "      <td>0.086</td>\n",
       "      <td>1.000</td>\n",
       "      <td>-0.044</td>\n",
       "      <td>-0.122</td>\n",
       "    </tr>\n",
       "    <tr>\n",
       "      <th>F_MESH</th>\n",
       "      <td>-0.004</td>\n",
       "      <td>-0.044</td>\n",
       "      <td>1.000</td>\n",
       "      <td>0.127</td>\n",
       "    </tr>\n",
       "    <tr>\n",
       "      <th>F_COUNTRY</th>\n",
       "      <td>-0.022</td>\n",
       "      <td>-0.122</td>\n",
       "      <td>0.127</td>\n",
       "      <td>1.000</td>\n",
       "    </tr>\n",
       "  </tbody>\n",
       "</table>\n",
       "</div>"
      ],
      "text/plain": [
       "            YEAR  N_AUTHORS  F_MESH  F_COUNTRY\n",
       "YEAR       1.000      0.086  -0.004     -0.022\n",
       "N_AUTHORS  0.086      1.000  -0.044     -0.122\n",
       "F_MESH    -0.004     -0.044   1.000      0.127\n",
       "F_COUNTRY -0.022     -0.122   0.127      1.000"
      ]
     },
     "execution_count": 16,
     "metadata": {},
     "output_type": "execute_result"
    }
   ],
   "source": [
    "temp = df[['GENDER_FL', 'YEAR', 'N_AUTHORS', 'CONTINENT', 'F_MESH', 'F_COUNTRY']]\n",
    "temp.corr()"
   ]
  },
  {
   "cell_type": "code",
   "execution_count": 17,
   "metadata": {},
   "outputs": [
    {
     "data": {
      "text/plain": [
       "1.45253760701246"
      ]
     },
     "execution_count": 17,
     "metadata": {},
     "output_type": "execute_result"
    }
   ],
   "source": [
    "np.linalg.cond(temp.corr())"
   ]
  },
  {
   "cell_type": "code",
   "execution_count": 18,
   "metadata": {},
   "outputs": [
    {
     "data": {
      "text/html": [
       "<div>\n",
       "<style scoped>\n",
       "    .dataframe tbody tr th:only-of-type {\n",
       "        vertical-align: middle;\n",
       "    }\n",
       "\n",
       "    .dataframe tbody tr th {\n",
       "        vertical-align: top;\n",
       "    }\n",
       "\n",
       "    .dataframe thead th {\n",
       "        text-align: right;\n",
       "    }\n",
       "</style>\n",
       "<table border=\"1\" class=\"dataframe\">\n",
       "  <thead>\n",
       "    <tr style=\"text-align: right;\">\n",
       "      <th></th>\n",
       "      <th>AF</th>\n",
       "      <th>FA</th>\n",
       "      <th>FF</th>\n",
       "      <th>Africa</th>\n",
       "      <th>Asia</th>\n",
       "      <th>Europe</th>\n",
       "      <th>Oceania</th>\n",
       "      <th>South America</th>\n",
       "      <th>Neurology &amp; Neurosurgery</th>\n",
       "      <th>General Biomedical Research</th>\n",
       "      <th>...</th>\n",
       "      <th>Anatomy &amp; Morphology</th>\n",
       "      <th>Speech-Language Pathology and Audiology</th>\n",
       "      <th>Allergy</th>\n",
       "      <th>Biomedical Social Sciences</th>\n",
       "      <th>Microscopy</th>\n",
       "      <th>Social Studies of Medicine</th>\n",
       "      <th>YEAR</th>\n",
       "      <th>N_AUTHORS</th>\n",
       "      <th>F_MESH</th>\n",
       "      <th>F_COUNTRY</th>\n",
       "    </tr>\n",
       "  </thead>\n",
       "  <tbody>\n",
       "    <tr>\n",
       "      <th>0</th>\n",
       "      <td>0</td>\n",
       "      <td>0</td>\n",
       "      <td>0</td>\n",
       "      <td>0</td>\n",
       "      <td>0</td>\n",
       "      <td>0</td>\n",
       "      <td>0</td>\n",
       "      <td>0</td>\n",
       "      <td>0</td>\n",
       "      <td>0</td>\n",
       "      <td>...</td>\n",
       "      <td>0</td>\n",
       "      <td>0</td>\n",
       "      <td>0</td>\n",
       "      <td>0</td>\n",
       "      <td>0</td>\n",
       "      <td>0</td>\n",
       "      <td>2008</td>\n",
       "      <td>5</td>\n",
       "      <td>0.445</td>\n",
       "      <td>0.351</td>\n",
       "    </tr>\n",
       "    <tr>\n",
       "      <th>1</th>\n",
       "      <td>0</td>\n",
       "      <td>1</td>\n",
       "      <td>0</td>\n",
       "      <td>0</td>\n",
       "      <td>0</td>\n",
       "      <td>1</td>\n",
       "      <td>0</td>\n",
       "      <td>0</td>\n",
       "      <td>1</td>\n",
       "      <td>0</td>\n",
       "      <td>...</td>\n",
       "      <td>0</td>\n",
       "      <td>0</td>\n",
       "      <td>0</td>\n",
       "      <td>0</td>\n",
       "      <td>0</td>\n",
       "      <td>0</td>\n",
       "      <td>2008</td>\n",
       "      <td>5</td>\n",
       "      <td>0.408</td>\n",
       "      <td>0.404</td>\n",
       "    </tr>\n",
       "    <tr>\n",
       "      <th>2</th>\n",
       "      <td>0</td>\n",
       "      <td>0</td>\n",
       "      <td>0</td>\n",
       "      <td>0</td>\n",
       "      <td>0</td>\n",
       "      <td>0</td>\n",
       "      <td>0</td>\n",
       "      <td>0</td>\n",
       "      <td>0</td>\n",
       "      <td>0</td>\n",
       "      <td>...</td>\n",
       "      <td>0</td>\n",
       "      <td>0</td>\n",
       "      <td>0</td>\n",
       "      <td>0</td>\n",
       "      <td>0</td>\n",
       "      <td>0</td>\n",
       "      <td>2008</td>\n",
       "      <td>4</td>\n",
       "      <td>0.336</td>\n",
       "      <td>0.351</td>\n",
       "    </tr>\n",
       "    <tr>\n",
       "      <th>3</th>\n",
       "      <td>0</td>\n",
       "      <td>0</td>\n",
       "      <td>0</td>\n",
       "      <td>0</td>\n",
       "      <td>0</td>\n",
       "      <td>0</td>\n",
       "      <td>0</td>\n",
       "      <td>0</td>\n",
       "      <td>0</td>\n",
       "      <td>0</td>\n",
       "      <td>...</td>\n",
       "      <td>0</td>\n",
       "      <td>0</td>\n",
       "      <td>0</td>\n",
       "      <td>0</td>\n",
       "      <td>0</td>\n",
       "      <td>0</td>\n",
       "      <td>2008</td>\n",
       "      <td>2</td>\n",
       "      <td>0.320</td>\n",
       "      <td>0.351</td>\n",
       "    </tr>\n",
       "    <tr>\n",
       "      <th>4</th>\n",
       "      <td>0</td>\n",
       "      <td>1</td>\n",
       "      <td>0</td>\n",
       "      <td>0</td>\n",
       "      <td>0</td>\n",
       "      <td>1</td>\n",
       "      <td>0</td>\n",
       "      <td>0</td>\n",
       "      <td>0</td>\n",
       "      <td>0</td>\n",
       "      <td>...</td>\n",
       "      <td>0</td>\n",
       "      <td>0</td>\n",
       "      <td>0</td>\n",
       "      <td>0</td>\n",
       "      <td>0</td>\n",
       "      <td>0</td>\n",
       "      <td>2008</td>\n",
       "      <td>7</td>\n",
       "      <td>nan</td>\n",
       "      <td>0.299</td>\n",
       "    </tr>\n",
       "  </tbody>\n",
       "</table>\n",
       "<p>5 rows × 68 columns</p>\n",
       "</div>"
      ],
      "text/plain": [
       "   AF  FA  FF  Africa  Asia  Europe  Oceania  South America  \\\n",
       "0   0   0   0       0     0       0        0              0   \n",
       "1   0   1   0       0     0       1        0              0   \n",
       "2   0   0   0       0     0       0        0              0   \n",
       "3   0   0   0       0     0       0        0              0   \n",
       "4   0   1   0       0     0       1        0              0   \n",
       "\n",
       "   Neurology & Neurosurgery  General Biomedical Research    ...      \\\n",
       "0                         0                            0    ...       \n",
       "1                         1                            0    ...       \n",
       "2                         0                            0    ...       \n",
       "3                         0                            0    ...       \n",
       "4                         0                            0    ...       \n",
       "\n",
       "   Anatomy & Morphology  Speech-Language Pathology and Audiology  Allergy  \\\n",
       "0                     0                                        0        0   \n",
       "1                     0                                        0        0   \n",
       "2                     0                                        0        0   \n",
       "3                     0                                        0        0   \n",
       "4                     0                                        0        0   \n",
       "\n",
       "   Biomedical Social Sciences  Microscopy  Social Studies of Medicine  YEAR  \\\n",
       "0                           0           0                           0  2008   \n",
       "1                           0           0                           0  2008   \n",
       "2                           0           0                           0  2008   \n",
       "3                           0           0                           0  2008   \n",
       "4                           0           0                           0  2008   \n",
       "\n",
       "   N_AUTHORS  F_MESH  F_COUNTRY  \n",
       "0          5   0.445      0.351  \n",
       "1          5   0.408      0.404  \n",
       "2          4   0.336      0.351  \n",
       "3          2   0.320      0.351  \n",
       "4          7     nan      0.299  \n",
       "\n",
       "[5 rows x 68 columns]"
      ]
     },
     "execution_count": 18,
     "metadata": {},
     "output_type": "execute_result"
    }
   ],
   "source": [
    "dm = pd.concat([pd.get_dummies(df.GENDER_FL)[['AF', 'FA', 'FF']], \n",
    "                pd.get_dummies(df.CONTINENT)[['Africa', 'Asia', 'Europe', 'Oceania', 'South America']], \n",
    "                pd.get_dummies(df.SUBDISCIPLINE)[list(df.SUBDISCIPLINE.value_counts().index)[1:]],\n",
    "                df[['YEAR', 'N_AUTHORS', 'F_MESH', 'F_COUNTRY']]\n",
    "               ], axis=1)\n",
    "dm.head()"
   ]
  },
  {
   "cell_type": "code",
   "execution_count": 19,
   "metadata": {},
   "outputs": [
    {
     "data": {
      "text/plain": [
       "26.108549414714584"
      ]
     },
     "execution_count": 19,
     "metadata": {},
     "output_type": "execute_result"
    }
   ],
   "source": [
    "np.linalg.cond(dm.corr())"
   ]
  },
  {
   "cell_type": "markdown",
   "metadata": {},
   "source": [
    "The condition index of the design matrix was calculated to estimate the strength of the multicollinearity. After merging first and last author covariates, the condition index was smaller than 30 (26.1). \n"
   ]
  },
  {
   "cell_type": "code",
   "execution_count": 20,
   "metadata": {},
   "outputs": [
    {
     "name": "stdout",
     "output_type": "stream",
     "text": [
      "Optimization terminated successfully.\n",
      "         Current function value: 0.544208\n",
      "         Iterations 8\n"
     ]
    }
   ],
   "source": [
    "model = 'GENDER_TOPIC ~ GENDER_FL + np.log2(N_AUTHORS) + CONTINENT + YEAR + F_MESH + F_COUNTRY + SUBDISCIPLINE'\n",
    "m1df = df.copy()\n",
    "m1df.GENDER_TOPIC.replace(dict(A=0, B=1, M=1, F=1), inplace=True)\n",
    "result = smf.logit(model, data=m1df).fit()\n"
   ]
  },
  {
   "cell_type": "code",
   "execution_count": 21,
   "metadata": {},
   "outputs": [
    {
     "data": {
      "text/html": [
       "<table class=\"simpletable\">\n",
       "<tr>\n",
       "                              <td></td>                                <th>coef</th>     <th>std err</th>      <th>z</th>      <th>P>|z|</th>  <th>[0.025</th>    <th>0.975]</th>  \n",
       "</tr>\n",
       "<tr>\n",
       "  <th>Intercept</th>                                                <td>    5.2113</td> <td>    1.714</td> <td>    3.040</td> <td> 0.002</td> <td>    1.852</td> <td>    8.571</td>\n",
       "</tr>\n",
       "<tr>\n",
       "  <th>GENDER_FL[T.AF]</th>                                          <td>    0.0597</td> <td>    0.007</td> <td>    9.119</td> <td> 0.000</td> <td>    0.047</td> <td>    0.072</td>\n",
       "</tr>\n",
       "<tr>\n",
       "  <th>GENDER_FL[T.FA]</th>                                          <td>    0.0630</td> <td>    0.005</td> <td>   12.215</td> <td> 0.000</td> <td>    0.053</td> <td>    0.073</td>\n",
       "</tr>\n",
       "<tr>\n",
       "  <th>GENDER_FL[T.FF]</th>                                          <td>    0.2313</td> <td>    0.007</td> <td>   34.423</td> <td> 0.000</td> <td>    0.218</td> <td>    0.245</td>\n",
       "</tr>\n",
       "<tr>\n",
       "  <th>CONTINENT[T.Africa]</th>                                      <td>    1.0697</td> <td>    0.028</td> <td>   37.756</td> <td> 0.000</td> <td>    1.014</td> <td>    1.125</td>\n",
       "</tr>\n",
       "<tr>\n",
       "  <th>CONTINENT[T.Asia]</th>                                        <td>    0.4913</td> <td>    0.007</td> <td>   73.224</td> <td> 0.000</td> <td>    0.478</td> <td>    0.504</td>\n",
       "</tr>\n",
       "<tr>\n",
       "  <th>CONTINENT[T.Europe]</th>                                      <td>    0.1412</td> <td>    0.005</td> <td>   27.639</td> <td> 0.000</td> <td>    0.131</td> <td>    0.151</td>\n",
       "</tr>\n",
       "<tr>\n",
       "  <th>CONTINENT[T.Oceania]</th>                                     <td>    0.0420</td> <td>    0.013</td> <td>    3.346</td> <td> 0.001</td> <td>    0.017</td> <td>    0.067</td>\n",
       "</tr>\n",
       "<tr>\n",
       "  <th>CONTINENT[T.South America]</th>                               <td>    0.3170</td> <td>    0.013</td> <td>   24.151</td> <td> 0.000</td> <td>    0.291</td> <td>    0.343</td>\n",
       "</tr>\n",
       "<tr>\n",
       "  <th>SUBDISCIPLINE[T.Allergy]</th>                                 <td>   -1.3039</td> <td>    0.052</td> <td>  -25.246</td> <td> 0.000</td> <td>   -1.405</td> <td>   -1.203</td>\n",
       "</tr>\n",
       "<tr>\n",
       "  <th>SUBDISCIPLINE[T.Anatomy & Morphology]</th>                    <td>   -1.1473</td> <td>    0.070</td> <td>  -16.371</td> <td> 0.000</td> <td>   -1.285</td> <td>   -1.010</td>\n",
       "</tr>\n",
       "<tr>\n",
       "  <th>SUBDISCIPLINE[T.Anesthesiology]</th>                          <td>   -0.7386</td> <td>    0.043</td> <td>  -17.184</td> <td> 0.000</td> <td>   -0.823</td> <td>   -0.654</td>\n",
       "</tr>\n",
       "<tr>\n",
       "  <th>SUBDISCIPLINE[T.Arthritis & Rheumatology]</th>                <td>   -0.8840</td> <td>    0.037</td> <td>  -23.937</td> <td> 0.000</td> <td>   -0.956</td> <td>   -0.812</td>\n",
       "</tr>\n",
       "<tr>\n",
       "  <th>SUBDISCIPLINE[T.Biochemistry & Molecular Biology]</th>        <td>   -2.6924</td> <td>    0.033</td> <td>  -82.787</td> <td> 0.000</td> <td>   -2.756</td> <td>   -2.629</td>\n",
       "</tr>\n",
       "<tr>\n",
       "  <th>SUBDISCIPLINE[T.Biomedical Engineering]</th>                  <td>   -2.5512</td> <td>    0.042</td> <td>  -60.833</td> <td> 0.000</td> <td>   -2.633</td> <td>   -2.469</td>\n",
       "</tr>\n",
       "<tr>\n",
       "  <th>SUBDISCIPLINE[T.Biomedical Social Sciences]</th>              <td>   -0.6888</td> <td>    0.077</td> <td>   -9.003</td> <td> 0.000</td> <td>   -0.839</td> <td>   -0.539</td>\n",
       "</tr>\n",
       "<tr>\n",
       "  <th>SUBDISCIPLINE[T.Biophysics]</th>                              <td>   -2.3700</td> <td>    0.059</td> <td>  -40.492</td> <td> 0.000</td> <td>   -2.485</td> <td>   -2.255</td>\n",
       "</tr>\n",
       "<tr>\n",
       "  <th>SUBDISCIPLINE[T.Cancer]</th>                                  <td>   -1.3226</td> <td>    0.032</td> <td>  -41.570</td> <td> 0.000</td> <td>   -1.385</td> <td>   -1.260</td>\n",
       "</tr>\n",
       "<tr>\n",
       "  <th>SUBDISCIPLINE[T.Cardiovascular System]</th>                   <td>   -0.7492</td> <td>    0.033</td> <td>  -22.966</td> <td> 0.000</td> <td>   -0.813</td> <td>   -0.685</td>\n",
       "</tr>\n",
       "<tr>\n",
       "  <th>SUBDISCIPLINE[T.Cellular Biology Cytology & Histology]</th>   <td>   -2.5332</td> <td>    0.035</td> <td>  -71.793</td> <td> 0.000</td> <td>   -2.602</td> <td>   -2.464</td>\n",
       "</tr>\n",
       "<tr>\n",
       "  <th>SUBDISCIPLINE[T.Dentistry]</th>                               <td>   -0.9570</td> <td>    0.036</td> <td>  -26.252</td> <td> 0.000</td> <td>   -1.028</td> <td>   -0.886</td>\n",
       "</tr>\n",
       "<tr>\n",
       "  <th>SUBDISCIPLINE[T.Dermatology & Venerial Disease]</th>          <td>   -0.7223</td> <td>    0.035</td> <td>  -20.400</td> <td> 0.000</td> <td>   -0.792</td> <td>   -0.653</td>\n",
       "</tr>\n",
       "<tr>\n",
       "  <th>SUBDISCIPLINE[T.Embryology]</th>                              <td>   -1.3131</td> <td>    0.063</td> <td>  -20.887</td> <td> 0.000</td> <td>   -1.436</td> <td>   -1.190</td>\n",
       "</tr>\n",
       "<tr>\n",
       "  <th>SUBDISCIPLINE[T.Endocrinology]</th>                           <td>   -0.7840</td> <td>    0.034</td> <td>  -22.976</td> <td> 0.000</td> <td>   -0.851</td> <td>   -0.717</td>\n",
       "</tr>\n",
       "<tr>\n",
       "  <th>SUBDISCIPLINE[T.Environmental & Occupational Health]</th>     <td>   -0.6268</td> <td>    0.039</td> <td>  -16.221</td> <td> 0.000</td> <td>   -0.703</td> <td>   -0.551</td>\n",
       "</tr>\n",
       "<tr>\n",
       "  <th>SUBDISCIPLINE[T.Fertility]</th>                               <td>    2.2613</td> <td>    0.124</td> <td>   18.164</td> <td> 0.000</td> <td>    2.017</td> <td>    2.505</td>\n",
       "</tr>\n",
       "<tr>\n",
       "  <th>SUBDISCIPLINE[T.Gastroenterology]</th>                        <td>   -1.2015</td> <td>    0.033</td> <td>  -35.915</td> <td> 0.000</td> <td>   -1.267</td> <td>   -1.136</td>\n",
       "</tr>\n",
       "<tr>\n",
       "  <th>SUBDISCIPLINE[T.General & Internal Medicine]</th>             <td>   -1.0613</td> <td>    0.032</td> <td>  -33.184</td> <td> 0.000</td> <td>   -1.124</td> <td>   -0.999</td>\n",
       "</tr>\n",
       "<tr>\n",
       "  <th>SUBDISCIPLINE[T.General Biomedical Research]</th>             <td>   -2.0325</td> <td>    0.032</td> <td>  -63.209</td> <td> 0.000</td> <td>   -2.096</td> <td>   -1.970</td>\n",
       "</tr>\n",
       "<tr>\n",
       "  <th>SUBDISCIPLINE[T.Genetics & Heredity]</th>                     <td>   -2.0637</td> <td>    0.034</td> <td>  -60.237</td> <td> 0.000</td> <td>   -2.131</td> <td>   -1.997</td>\n",
       "</tr>\n",
       "<tr>\n",
       "  <th>SUBDISCIPLINE[T.Geriatrics]</th>                              <td>   -0.3942</td> <td>    0.051</td> <td>   -7.739</td> <td> 0.000</td> <td>   -0.494</td> <td>   -0.294</td>\n",
       "</tr>\n",
       "<tr>\n",
       "  <th>SUBDISCIPLINE[T.Geriatrics & Gerontology]</th>                <td>   -0.8672</td> <td>    0.048</td> <td>  -17.905</td> <td> 0.000</td> <td>   -0.962</td> <td>   -0.772</td>\n",
       "</tr>\n",
       "<tr>\n",
       "  <th>SUBDISCIPLINE[T.Health Policy & Services]</th>                <td>   -0.9314</td> <td>    0.038</td> <td>  -24.609</td> <td> 0.000</td> <td>   -1.006</td> <td>   -0.857</td>\n",
       "</tr>\n",
       "<tr>\n",
       "  <th>SUBDISCIPLINE[T.Hematology]</th>                              <td>   -1.6181</td> <td>    0.035</td> <td>  -46.584</td> <td> 0.000</td> <td>   -1.686</td> <td>   -1.550</td>\n",
       "</tr>\n",
       "<tr>\n",
       "  <th>SUBDISCIPLINE[T.Immunology]</th>                              <td>   -1.9593</td> <td>    0.032</td> <td>  -60.810</td> <td> 0.000</td> <td>   -2.022</td> <td>   -1.896</td>\n",
       "</tr>\n",
       "<tr>\n",
       "  <th>SUBDISCIPLINE[T.Microbiology]</th>                            <td>   -2.7061</td> <td>    0.036</td> <td>  -76.111</td> <td> 0.000</td> <td>   -2.776</td> <td>   -2.636</td>\n",
       "</tr>\n",
       "<tr>\n",
       "  <th>SUBDISCIPLINE[T.Microscopy]</th>                              <td>   -2.9934</td> <td>    0.165</td> <td>  -18.109</td> <td> 0.000</td> <td>   -3.317</td> <td>   -2.669</td>\n",
       "</tr>\n",
       "<tr>\n",
       "  <th>SUBDISCIPLINE[T.Miscellaneous Biomedical Research]</th>       <td>   -1.6276</td> <td>    0.040</td> <td>  -40.223</td> <td> 0.000</td> <td>   -1.707</td> <td>   -1.548</td>\n",
       "</tr>\n",
       "<tr>\n",
       "  <th>SUBDISCIPLINE[T.Miscellaneous Clinical Medicine]</th>         <td>   -0.8886</td> <td>    0.037</td> <td>  -24.090</td> <td> 0.000</td> <td>   -0.961</td> <td>   -0.816</td>\n",
       "</tr>\n",
       "<tr>\n",
       "  <th>SUBDISCIPLINE[T.Nephrology]</th>                              <td>   -1.0839</td> <td>    0.039</td> <td>  -27.559</td> <td> 0.000</td> <td>   -1.161</td> <td>   -1.007</td>\n",
       "</tr>\n",
       "<tr>\n",
       "  <th>SUBDISCIPLINE[T.Neurology & Neurosurgery]</th>                <td>   -0.8158</td> <td>    0.032</td> <td>  -25.557</td> <td> 0.000</td> <td>   -0.878</td> <td>   -0.753</td>\n",
       "</tr>\n",
       "<tr>\n",
       "  <th>SUBDISCIPLINE[T.Nursing]</th>                                 <td>   -0.8020</td> <td>    0.037</td> <td>  -21.424</td> <td> 0.000</td> <td>   -0.875</td> <td>   -0.729</td>\n",
       "</tr>\n",
       "<tr>\n",
       "  <th>SUBDISCIPLINE[T.Nutrition & Dietetic]</th>                    <td>   -0.9701</td> <td>    0.037</td> <td>  -26.093</td> <td> 0.000</td> <td>   -1.043</td> <td>   -0.897</td>\n",
       "</tr>\n",
       "<tr>\n",
       "  <th>SUBDISCIPLINE[T.Obstetrics & Gynecology]</th>                 <td>    1.6887</td> <td>    0.055</td> <td>   30.768</td> <td> 0.000</td> <td>    1.581</td> <td>    1.796</td>\n",
       "</tr>\n",
       "<tr>\n",
       "  <th>SUBDISCIPLINE[T.Ophthalmology]</th>                           <td>   -0.6150</td> <td>    0.035</td> <td>  -17.645</td> <td> 0.000</td> <td>   -0.683</td> <td>   -0.547</td>\n",
       "</tr>\n",
       "<tr>\n",
       "  <th>SUBDISCIPLINE[T.Orthopedics]</th>                             <td>   -0.4655</td> <td>    0.035</td> <td>  -13.427</td> <td> 0.000</td> <td>   -0.533</td> <td>   -0.398</td>\n",
       "</tr>\n",
       "<tr>\n",
       "  <th>SUBDISCIPLINE[T.Otorhinolaryngology]</th>                     <td>   -0.4285</td> <td>    0.036</td> <td>  -11.793</td> <td> 0.000</td> <td>   -0.500</td> <td>   -0.357</td>\n",
       "</tr>\n",
       "<tr>\n",
       "  <th>SUBDISCIPLINE[T.Parasitology]</th>                            <td>   -2.5952</td> <td>    0.041</td> <td>  -63.308</td> <td> 0.000</td> <td>   -2.676</td> <td>   -2.515</td>\n",
       "</tr>\n",
       "<tr>\n",
       "  <th>SUBDISCIPLINE[T.Pathology]</th>                               <td>   -1.1201</td> <td>    0.034</td> <td>  -32.530</td> <td> 0.000</td> <td>   -1.188</td> <td>   -1.053</td>\n",
       "</tr>\n",
       "<tr>\n",
       "  <th>SUBDISCIPLINE[T.Pediatrics]</th>                              <td>   -0.5595</td> <td>    0.035</td> <td>  -16.022</td> <td> 0.000</td> <td>   -0.628</td> <td>   -0.491</td>\n",
       "</tr>\n",
       "<tr>\n",
       "  <th>SUBDISCIPLINE[T.Pharmacology]</th>                            <td>   -1.9038</td> <td>    0.032</td> <td>  -59.283</td> <td> 0.000</td> <td>   -1.967</td> <td>   -1.841</td>\n",
       "</tr>\n",
       "<tr>\n",
       "  <th>SUBDISCIPLINE[T.Pharmacy]</th>                                <td>   -2.2358</td> <td>    0.048</td> <td>  -46.920</td> <td> 0.000</td> <td>   -2.329</td> <td>   -2.142</td>\n",
       "</tr>\n",
       "<tr>\n",
       "  <th>SUBDISCIPLINE[T.Physiology]</th>                              <td>   -1.1413</td> <td>    0.037</td> <td>  -30.479</td> <td> 0.000</td> <td>   -1.215</td> <td>   -1.068</td>\n",
       "</tr>\n",
       "<tr>\n",
       "  <th>SUBDISCIPLINE[T.Psychiatry]</th>                              <td>   -0.0969</td> <td>    0.038</td> <td>   -2.553</td> <td> 0.011</td> <td>   -0.171</td> <td>   -0.023</td>\n",
       "</tr>\n",
       "<tr>\n",
       "  <th>SUBDISCIPLINE[T.Public Health]</th>                           <td>   -0.5870</td> <td>    0.035</td> <td>  -16.571</td> <td> 0.000</td> <td>   -0.656</td> <td>   -0.518</td>\n",
       "</tr>\n",
       "<tr>\n",
       "  <th>SUBDISCIPLINE[T.Radiology & Nuclear Medicine]</th>            <td>   -0.8194</td> <td>    0.034</td> <td>  -24.410</td> <td> 0.000</td> <td>   -0.885</td> <td>   -0.754</td>\n",
       "</tr>\n",
       "<tr>\n",
       "  <th>SUBDISCIPLINE[T.Rehabilitation]</th>                          <td>   -0.2948</td> <td>    0.041</td> <td>   -7.131</td> <td> 0.000</td> <td>   -0.376</td> <td>   -0.214</td>\n",
       "</tr>\n",
       "<tr>\n",
       "  <th>SUBDISCIPLINE[T.Respiratory System]</th>                      <td>   -1.0012</td> <td>    0.036</td> <td>  -27.573</td> <td> 0.000</td> <td>   -1.072</td> <td>   -0.930</td>\n",
       "</tr>\n",
       "<tr>\n",
       "  <th>SUBDISCIPLINE[T.Social Studies of Medicine]</th>              <td>   -1.5732</td> <td>    0.225</td> <td>   -6.983</td> <td> 0.000</td> <td>   -2.015</td> <td>   -1.132</td>\n",
       "</tr>\n",
       "<tr>\n",
       "  <th>SUBDISCIPLINE[T.Speech-Language Pathology and Audiology]</th> <td>   -0.3589</td> <td>    0.062</td> <td>   -5.751</td> <td> 0.000</td> <td>   -0.481</td> <td>   -0.237</td>\n",
       "</tr>\n",
       "<tr>\n",
       "  <th>SUBDISCIPLINE[T.Surgery]</th>                                 <td>   -0.3288</td> <td>    0.033</td> <td>  -10.036</td> <td> 0.000</td> <td>   -0.393</td> <td>   -0.265</td>\n",
       "</tr>\n",
       "<tr>\n",
       "  <th>SUBDISCIPLINE[T.Tropical Medicine]</th>                       <td>   -1.6910</td> <td>    0.043</td> <td>  -39.603</td> <td> 0.000</td> <td>   -1.775</td> <td>   -1.607</td>\n",
       "</tr>\n",
       "<tr>\n",
       "  <th>SUBDISCIPLINE[T.Urology]</th>                                 <td>   -0.0302</td> <td>    0.037</td> <td>   -0.828</td> <td> 0.408</td> <td>   -0.102</td> <td>    0.041</td>\n",
       "</tr>\n",
       "<tr>\n",
       "  <th>SUBDISCIPLINE[T.Veterinary Medicine]</th>                     <td>   -1.7557</td> <td>    0.035</td> <td>  -50.708</td> <td> 0.000</td> <td>   -1.824</td> <td>   -1.688</td>\n",
       "</tr>\n",
       "<tr>\n",
       "  <th>SUBDISCIPLINE[T.Virology]</th>                                <td>   -2.8151</td> <td>    0.036</td> <td>  -77.147</td> <td> 0.000</td> <td>   -2.887</td> <td>   -2.744</td>\n",
       "</tr>\n",
       "<tr>\n",
       "  <th>np.log2(N_AUTHORS)</th>                                       <td>    0.6706</td> <td>    0.003</td> <td>  233.879</td> <td> 0.000</td> <td>    0.665</td> <td>    0.676</td>\n",
       "</tr>\n",
       "<tr>\n",
       "  <th>YEAR</th>                                                     <td>   -0.0028</td> <td>    0.001</td> <td>   -3.235</td> <td> 0.001</td> <td>   -0.004</td> <td>   -0.001</td>\n",
       "</tr>\n",
       "<tr>\n",
       "  <th>F_MESH</th>                                                   <td>    0.8641</td> <td>    0.034</td> <td>   25.329</td> <td> 0.000</td> <td>    0.797</td> <td>    0.931</td>\n",
       "</tr>\n",
       "<tr>\n",
       "  <th>F_COUNTRY</th>                                                <td>    0.7529</td> <td>    0.039</td> <td>   19.185</td> <td> 0.000</td> <td>    0.676</td> <td>    0.830</td>\n",
       "</tr>\n",
       "</table>"
      ],
      "text/plain": [
       "<class 'statsmodels.iolib.table.SimpleTable'>"
      ]
     },
     "execution_count": 21,
     "metadata": {},
     "output_type": "execute_result"
    }
   ],
   "source": [
    "xdf = result.summary().tables[1]\n",
    "xdf"
   ]
  },
  {
   "cell_type": "markdown",
   "metadata": {},
   "source": [
    "## Discipline-wise models\n",
    "\n",
    "Let's fit four models. The first one uses the whole dataset while the other three use one of the major disciplines. "
   ]
  },
  {
   "cell_type": "code",
   "execution_count": 25,
   "metadata": {},
   "outputs": [
    {
     "name": "stdout",
     "output_type": "stream",
     "text": [
      "Optimization terminated successfully.\n",
      "         Current function value: 0.544208\n",
      "         Iterations 8\n",
      "Optimization terminated successfully.\n",
      "         Current function value: 0.634324\n",
      "         Iterations 6\n",
      "Optimization terminated successfully.\n",
      "         Current function value: 0.523831\n",
      "         Iterations 8\n",
      "Optimization terminated successfully.\n",
      "         Current function value: 0.534813\n",
      "         Iterations 6\n"
     ]
    }
   ],
   "source": [
    "model = 'GENDER_TOPIC ~ GENDER_FL + np.log2(N_AUTHORS) + CONTINENT + YEAR + F_MESH + F_COUNTRY + SUBDISCIPLINE'\n",
    "tempdf = df.replace({'GENDER_TOPIC': dict(A=0, B=1, M=1, F=1)})\n",
    "\n",
    "result0 = smf.logit(model, data=tempdf).fit()\n",
    "result_b = smf.logit(model, data=tempdf[tempdf.DISCIPLINE=='Biomedical Research']).fit() \n",
    "result_c = smf.logit(model, data=tempdf[tempdf.DISCIPLINE=='Clinical Medicine']).fit() \n",
    "result_h = smf.logit(model, data=tempdf[tempdf.DISCIPLINE=='Health']).fit() "
   ]
  },
  {
   "cell_type": "code",
   "execution_count": 26,
   "metadata": {},
   "outputs": [],
   "source": [
    "results = (result0, result_b, result_c, result_h)"
   ]
  },
  {
   "cell_type": "code",
   "execution_count": 27,
   "metadata": {},
   "outputs": [
    {
     "data": {
      "text/plain": [
       "2918"
      ]
     },
     "execution_count": 27,
     "metadata": {},
     "output_type": "execute_result"
    }
   ],
   "source": [
    "# see the workflow\n",
    "# open('../results/br_sr_mesh_ctry.csv', 'w').write(result_b.summary().as_csv())\n",
    "# open('../results/cm_sr_mesh_ctry.csv', 'w').write(result_c.summary().as_csv())\n",
    "# open('../results/h_sr_mesh_ctry.csv', 'w').write(result_h.summary().as_csv())"
   ]
  },
  {
   "cell_type": "markdown",
   "metadata": {},
   "source": [
    "## Plotting Odds ratio\n",
    "\n",
    "Let's first define a function for drawing the figures. It returns odd ratios and CIs for a given set of independent variables. \n"
   ]
  },
  {
   "cell_type": "code",
   "execution_count": 28,
   "metadata": {
    "code_folding": []
   },
   "outputs": [],
   "source": [
    "def ors_and_errs(result, IVs):\n",
    "    ORs = [np.exp(result.params[iv]) for iv in IVs]\n",
    "    err_l = [np.exp(result.params[iv]) - np.exp(result.conf_int()[0][iv]) for iv in IVs]\n",
    "    err_u = [np.exp(result.conf_int()[1][iv]) - np.exp(result.params[iv])for iv in IVs]\n",
    "    return ORs, err_l, err_u"
   ]
  },
  {
   "cell_type": "markdown",
   "metadata": {},
   "source": [
    "And these are the independent variables that we are interested in. "
   ]
  },
  {
   "cell_type": "code",
   "execution_count": 29,
   "metadata": {
    "code_folding": [
     0,
     4
    ]
   },
   "outputs": [],
   "source": [
    "IVs = ['GENDER_FL[T.AF]', 'GENDER_FL[T.FA]', 'GENDER_FL[T.FF]', 'np.log2(N_AUTHORS)',\n",
    "       'F_MESH', 'F_COUNTRY',\n",
    "       'CONTINENT[T.Africa]', 'CONTINENT[T.Asia]', 'CONTINENT[T.Europe]',\n",
    "       'CONTINENT[T.Oceania]', 'CONTINENT[T.South America]',\n",
    "       'YEAR']\n",
    "labels = ['Male-Female', 'Female-Male', 'Female-Female', '# authors (log2)', \n",
    "          'f_mesh', 'f_country',\n",
    "          'Africa', 'Asia', 'Europe', 'Oceania', 'S. America',\n",
    "          'Year']\n",
    "IVs.reverse()\n",
    "labels.reverse()"
   ]
  },
  {
   "cell_type": "markdown",
   "metadata": {},
   "source": [
    "Let's define a function that draws a single plot. "
   ]
  },
  {
   "cell_type": "code",
   "execution_count": 30,
   "metadata": {},
   "outputs": [],
   "source": [
    "def plot_ors_on_ax(ax, title, Y, result, IVs, labels, xlim=(None, None),\n",
    "                    elinewidth=0.8, markersize=3):\n",
    "    \n",
    "    ors, err_l, err_u = ors_and_errs(result, IVs)\n",
    "    ax.errorbar(ors, Y, xerr=[err_l, err_u], \n",
    "                 fmt='o', color='k', elinewidth=elinewidth, markersize=markersize, mew=0.5)\n",
    "    ax.set_xscale(\"log\")\n",
    "    ax.set_title(title)\n",
    "    ax.axhline(y=1.5, color='0.8', linewidth=0.5)\n",
    "    ax.axhline(y=6.5, color='0.8', linewidth=0.5)\n",
    "    #ax.axhline(y=8.5, color='0.8', linewidth=0.5)\n",
    "    ax.axvline(x=1, color='r', linewidth=0.5)\n",
    "    ax.set_xlim(xlim)\n",
    "    ax.set_xlabel('Odds Ratio (log-scale)')\n",
    "    ax.set_xticks([1.0, 2.0, 5.0])\n",
    "    ax.xaxis.set_major_formatter(matplotlib.ticker.ScalarFormatter())\n",
    "    ax.xaxis.set_minor_formatter(matplotlib.ticker.NullFormatter())\n"
   ]
  },
  {
   "cell_type": "code",
   "execution_count": 31,
   "metadata": {},
   "outputs": [
    {
     "data": {
      "image/png": "[encoded data removed]",
      "text/plain": [
       "<Figure size 720x252 with 4 Axes>"
      ]
     },
     "metadata": {
      "needs_background": "light"
     },
     "output_type": "display_data"
    }
   ],
   "source": [
    "fig, axes = plt.subplots(nrows=1, ncols=4, sharey=True, figsize=(10,3.5))\n",
    "fig.subplots_adjust(wspace=0)\n",
    "Y = np.arange(1, len(IVs)+1)\n",
    "xlim = (0.7, 11)\n",
    "\n",
    "for idx, (result, label) in enumerate(zip(results, ['All', 'Biomedical Research', \n",
    "                                                    'Clinical Medicine', 'Public Health'])):\n",
    "    plot_ors_on_ax(axes[idx], label, Y=Y, result=result, IVs=IVs, labels=labels, xlim=xlim)\n",
    "\n",
    "plt.yticks(Y, labels)\n",
    "plt.tight_layout()\n",
    "fig.savefig('model1_ors.pdf')"
   ]
  },
  {
   "cell_type": "code",
   "execution_count": null,
   "metadata": {},
   "outputs": [],
   "source": []
  }
 ],
 "metadata": {
  "kernelspec": {
   "display_name": "genderXgender",
   "language": "python",
   "name": "genderxgender"
  },
  "language_info": {
   "codemirror_mode": {
    "name": "ipython",
    "version": 3
   },
   "file_extension": ".py",
   "mimetype": "text/x-python",
   "name": "python",
   "nbconvert_exporter": "python",
   "pygments_lexer": "ipython3",
   "version": "3.6.5"
  },
  "toc": {
   "nav_menu": {},
   "number_sections": true,
   "sideBar": true,
   "skip_h1_title": false,
   "title_cell": "Table of Contents",
   "title_sidebar": "Contents",
   "toc_cell": false,
   "toc_position": {},
   "toc_section_display": true,
   "toc_window_display": true
  }
 },
 "nbformat": 4,
 "nbformat_minor": 2
}
