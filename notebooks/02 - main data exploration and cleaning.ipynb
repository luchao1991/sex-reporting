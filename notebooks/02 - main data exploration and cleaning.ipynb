{
 "cells": [
  {
   "cell_type": "markdown",
   "metadata": {},
   "source": [
    "# (Incorporated into the workflow)"
   ]
  },
  {
   "cell_type": "markdown",
   "metadata": {},
   "source": [
    "# Importing packages"
   ]
  },
  {
   "cell_type": "code",
   "execution_count": 1,
   "metadata": {},
   "outputs": [],
   "source": [
    "import numpy as np\n",
    "import scipy.stats as stats\n",
    "import pandas as pd\n",
    "\n",
    "import statsmodels.api as sm\n",
    "import statsmodels.formula.api as smf\n",
    "\n",
    "import matplotlib.pyplot as plt\n",
    "%matplotlib inline\n",
    "pd.set_option('display.float_format', lambda x: '%.3f' % x)"
   ]
  },
  {
   "cell_type": "markdown",
   "metadata": {},
   "source": [
    "A convenient function for plotting ccdfs. "
   ]
  },
  {
   "cell_type": "code",
   "execution_count": 2,
   "metadata": {
    "code_folding": [
     0
    ]
   },
   "outputs": [],
   "source": [
    "def plot_col_ccdf(df, col):\n",
    "    N = len(df)\n",
    "    Y = np.linspace(1.0/N, 1.0, N)\n",
    "    X = df[col].sort_values(ascending=False)\n",
    "    plt.figure(figsize=(4,3)); plt.xlabel(\"Number of addresses\"); plt.ylabel(\"CCDF\")\n",
    "    _ = plt.loglog(X,Y)"
   ]
  },
  {
   "cell_type": "markdown",
   "metadata": {},
   "source": [
    "# Data loading, merging, and cleaning"
   ]
  },
  {
   "cell_type": "code",
   "execution_count": 3,
   "metadata": {
    "code_folding": [
     0
    ],
    "scrolled": false
   },
   "outputs": [
    {
     "data": {
      "text/html": [
       "<div>\n",
       "<style scoped>\n",
       "    .dataframe tbody tr th:only-of-type {\n",
       "        vertical-align: middle;\n",
       "    }\n",
       "\n",
       "    .dataframe tbody tr th {\n",
       "        vertical-align: top;\n",
       "    }\n",
       "\n",
       "    .dataframe thead th {\n",
       "        text-align: right;\n",
       "    }\n",
       "</style>\n",
       "<table border=\"1\" class=\"dataframe\">\n",
       "  <thead>\n",
       "    <tr style=\"text-align: right;\">\n",
       "      <th></th>\n",
       "      <th>id_Art</th>\n",
       "      <th>Year</th>\n",
       "      <th>Main_country</th>\n",
       "      <th>nb_AUTEUR</th>\n",
       "      <th>NB_ADRESSE</th>\n",
       "      <th>nb_REFERENCE</th>\n",
       "      <th>rEVUE</th>\n",
       "      <th>FI_2</th>\n",
       "      <th>CIT_ALL_IAC</th>\n",
       "      <th>GENDER_TOPIC</th>\n",
       "      <th>gender_First</th>\n",
       "      <th>gender_Last</th>\n",
       "      <th>fractF</th>\n",
       "      <th>FractM</th>\n",
       "      <th>Ediscipline</th>\n",
       "      <th>ESpecialite</th>\n",
       "    </tr>\n",
       "  </thead>\n",
       "  <tbody>\n",
       "    <tr>\n",
       "      <th>0</th>\n",
       "      <td>29496682</td>\n",
       "      <td>2008</td>\n",
       "      <td>Canada</td>\n",
       "      <td>1</td>\n",
       "      <td>1</td>\n",
       "      <td>10</td>\n",
       "      <td>ADVANCES IN EXPERIMENTAL MEDICINE AND BIOLOGY</td>\n",
       "      <td>1.059</td>\n",
       "      <td>1</td>\n",
       "      <td>N</td>\n",
       "      <td>M</td>\n",
       "      <td>M</td>\n",
       "      <td>nan</td>\n",
       "      <td>1.000</td>\n",
       "      <td>Biomedical Research</td>\n",
       "      <td>Biochemistry &amp; Molecular Biology</td>\n",
       "    </tr>\n",
       "    <tr>\n",
       "      <th>1</th>\n",
       "      <td>29496694</td>\n",
       "      <td>2008</td>\n",
       "      <td>United States</td>\n",
       "      <td>5</td>\n",
       "      <td>1</td>\n",
       "      <td>14</td>\n",
       "      <td>ADVANCES IN EXPERIMENTAL MEDICINE AND BIOLOGY</td>\n",
       "      <td>1.059</td>\n",
       "      <td>5</td>\n",
       "      <td>N</td>\n",
       "      <td>M</td>\n",
       "      <td>M</td>\n",
       "      <td>0.200</td>\n",
       "      <td>0.800</td>\n",
       "      <td>Biomedical Research</td>\n",
       "      <td>Biochemistry &amp; Molecular Biology</td>\n",
       "    </tr>\n",
       "  </tbody>\n",
       "</table>\n",
       "</div>"
      ],
      "text/plain": [
       "     id_Art  Year   Main_country  nb_AUTEUR  NB_ADRESSE  nb_REFERENCE  \\\n",
       "0  29496682  2008         Canada          1           1            10   \n",
       "1  29496694  2008  United States          5           1            14   \n",
       "\n",
       "                                           rEVUE  FI_2  CIT_ALL_IAC  \\\n",
       "0  ADVANCES IN EXPERIMENTAL MEDICINE AND BIOLOGY 1.059            1   \n",
       "1  ADVANCES IN EXPERIMENTAL MEDICINE AND BIOLOGY 1.059            5   \n",
       "\n",
       "  GENDER_TOPIC gender_First gender_Last  fractF  FractM          Ediscipline  \\\n",
       "0            N            M           M     nan   1.000  Biomedical Research   \n",
       "1            N            M           M   0.200   0.800  Biomedical Research   \n",
       "\n",
       "                        ESpecialite  \n",
       "0  Biochemistry & Molecular Biology  \n",
       "1  Biochemistry & Molecular Biology  "
      ]
     },
     "execution_count": 3,
     "metadata": {},
     "output_type": "execute_result"
    }
   ],
   "source": [
    "dtypes = {'id_Art': 'int',\n",
    "          'Year': 'int',\n",
    "          'Main_country': 'category',\n",
    "          'nb_AUTEUR': 'int',\n",
    "          'NB_ADRESSE': 'int',\n",
    "          'nb_REFERENCE': 'int', \n",
    "          'FI_2': 'float', \n",
    "          'CIT_ALL_IAC': 'int', \n",
    "          'GENDER_TOPIC': 'category', \n",
    "          'gender_First': 'category',\n",
    "          'gender_Last': 'category',\n",
    "          'fracF': 'float',\n",
    "          'FractM': 'float',\n",
    "          'Ediscipline': 'category',\n",
    "          'ESpecialite': 'category'}\n",
    "rawdf = pd.read_csv('../data/genderXgender_v20180710.txt', sep='\\t', dtype=dtypes)\n",
    "rawdf.head(2)"
   ]
  },
  {
   "cell_type": "code",
   "execution_count": 4,
   "metadata": {},
   "outputs": [
    {
     "data": {
      "text/plain": [
       "id_Art             int64\n",
       "Year               int64\n",
       "Main_country    category\n",
       "nb_AUTEUR          int64\n",
       "NB_ADRESSE         int64\n",
       "nb_REFERENCE       int64\n",
       "rEVUE             object\n",
       "FI_2             float64\n",
       "CIT_ALL_IAC        int64\n",
       "GENDER_TOPIC    category\n",
       "gender_First    category\n",
       "gender_Last     category\n",
       "fractF           float64\n",
       "FractM           float64\n",
       "Ediscipline     category\n",
       "ESpecialite     category\n",
       "dtype: object"
      ]
     },
     "execution_count": 4,
     "metadata": {},
     "output_type": "execute_result"
    }
   ],
   "source": [
    "rawdf.dtypes"
   ]
  },
  {
   "cell_type": "code",
   "execution_count": 5,
   "metadata": {},
   "outputs": [
    {
     "data": {
      "text/plain": [
       "3298951"
      ]
     },
     "execution_count": 5,
     "metadata": {},
     "output_type": "execute_result"
    }
   ],
   "source": [
    "len(rawdf)"
   ]
  },
  {
   "cell_type": "markdown",
   "metadata": {},
   "source": [
    "## Renaming columns"
   ]
  },
  {
   "cell_type": "markdown",
   "metadata": {},
   "source": [
    "These are the fields in the dataset. \n",
    "\n",
    "- `id_Art`: paper unique id\n",
    "- `Year`: paper publication year\n",
    "- `Main_country`: main country of paper\n",
    "- `nb_auteur`: number of authors of paper\n",
    "- `nb_adresses`: number of institutional addresses on paper\n",
    "- `nb_reference`: number of cited references in the paper\n",
    "- `Revue`: journal\n",
    "- `FI_2`: two year IF of the journal\n",
    "- `CIT_ALL_IAC`: all citations received by paper\n",
    "- `GENDER_TOPIC`: gender content of the paper. N = None, B=Both genders, M=Male, F=Female\n",
    "- `gender_First`: gender of first author\n",
    "- `gender_Last`: gender of last author\n",
    "- `fractF`: fraction of female authors\n",
    "- `FractM`: fraction of male authors\n",
    "- `EDiscipline`: broad discipline of paper\n",
    "- `Especialite`: speaciality of the paper\n",
    "\n",
    "Let's rename them in a more consistent and informative manner. "
   ]
  },
  {
   "cell_type": "code",
   "execution_count": 6,
   "metadata": {
    "scrolled": true
   },
   "outputs": [
    {
     "data": {
      "text/html": [
       "<div>\n",
       "<style scoped>\n",
       "    .dataframe tbody tr th:only-of-type {\n",
       "        vertical-align: middle;\n",
       "    }\n",
       "\n",
       "    .dataframe tbody tr th {\n",
       "        vertical-align: top;\n",
       "    }\n",
       "\n",
       "    .dataframe thead th {\n",
       "        text-align: right;\n",
       "    }\n",
       "</style>\n",
       "<table border=\"1\" class=\"dataframe\">\n",
       "  <thead>\n",
       "    <tr style=\"text-align: right;\">\n",
       "      <th></th>\n",
       "      <th>PID</th>\n",
       "      <th>YEAR</th>\n",
       "      <th>MAIN_COUNTRY</th>\n",
       "      <th>N_AUTHORS</th>\n",
       "      <th>N_ADDRESSES</th>\n",
       "      <th>N_REFS</th>\n",
       "      <th>VENUE</th>\n",
       "      <th>IF</th>\n",
       "      <th>N_CITATIONS</th>\n",
       "      <th>GENDER_TOPIC</th>\n",
       "      <th>GENDER_FIRST</th>\n",
       "      <th>GENDER_LAST</th>\n",
       "      <th>FEMALE_FRACTION</th>\n",
       "      <th>MALE_FRACTION</th>\n",
       "      <th>DISCIPLINE</th>\n",
       "      <th>SUBDISCIPLINE</th>\n",
       "    </tr>\n",
       "  </thead>\n",
       "  <tbody>\n",
       "    <tr>\n",
       "      <th>0</th>\n",
       "      <td>29496682</td>\n",
       "      <td>2008</td>\n",
       "      <td>Canada</td>\n",
       "      <td>1</td>\n",
       "      <td>1</td>\n",
       "      <td>10</td>\n",
       "      <td>ADVANCES IN EXPERIMENTAL MEDICINE AND BIOLOGY</td>\n",
       "      <td>1.059</td>\n",
       "      <td>1</td>\n",
       "      <td>N</td>\n",
       "      <td>M</td>\n",
       "      <td>M</td>\n",
       "      <td>nan</td>\n",
       "      <td>1.000</td>\n",
       "      <td>Biomedical Research</td>\n",
       "      <td>Biochemistry &amp; Molecular Biology</td>\n",
       "    </tr>\n",
       "    <tr>\n",
       "      <th>1</th>\n",
       "      <td>29496694</td>\n",
       "      <td>2008</td>\n",
       "      <td>United States</td>\n",
       "      <td>5</td>\n",
       "      <td>1</td>\n",
       "      <td>14</td>\n",
       "      <td>ADVANCES IN EXPERIMENTAL MEDICINE AND BIOLOGY</td>\n",
       "      <td>1.059</td>\n",
       "      <td>5</td>\n",
       "      <td>N</td>\n",
       "      <td>M</td>\n",
       "      <td>M</td>\n",
       "      <td>0.200</td>\n",
       "      <td>0.800</td>\n",
       "      <td>Biomedical Research</td>\n",
       "      <td>Biochemistry &amp; Molecular Biology</td>\n",
       "    </tr>\n",
       "  </tbody>\n",
       "</table>\n",
       "</div>"
      ],
      "text/plain": [
       "        PID  YEAR   MAIN_COUNTRY  N_AUTHORS  N_ADDRESSES  N_REFS  \\\n",
       "0  29496682  2008         Canada          1            1      10   \n",
       "1  29496694  2008  United States          5            1      14   \n",
       "\n",
       "                                           VENUE    IF  N_CITATIONS  \\\n",
       "0  ADVANCES IN EXPERIMENTAL MEDICINE AND BIOLOGY 1.059            1   \n",
       "1  ADVANCES IN EXPERIMENTAL MEDICINE AND BIOLOGY 1.059            5   \n",
       "\n",
       "  GENDER_TOPIC GENDER_FIRST GENDER_LAST  FEMALE_FRACTION  MALE_FRACTION  \\\n",
       "0            N            M           M              nan          1.000   \n",
       "1            N            M           M            0.200          0.800   \n",
       "\n",
       "            DISCIPLINE                     SUBDISCIPLINE  \n",
       "0  Biomedical Research  Biochemistry & Molecular Biology  \n",
       "1  Biomedical Research  Biochemistry & Molecular Biology  "
      ]
     },
     "execution_count": 6,
     "metadata": {},
     "output_type": "execute_result"
    }
   ],
   "source": [
    "rename_dic = {'id_Art': 'PID',\n",
    "              'Year': 'YEAR',\n",
    "              'Main_country': 'MAIN_COUNTRY',\n",
    "              'nb_AUTEUR': 'N_AUTHORS',\n",
    "              'NB_ADRESSE': 'N_ADDRESSES',\n",
    "              'nb_REFERENCE': 'N_REFS',\n",
    "              'rEVUE': 'VENUE', \n",
    "              'FI_2': 'IF', \n",
    "              'CIT_ALL_IAC': 'N_CITATIONS',\n",
    "              'gender_First': 'GENDER_FIRST', \n",
    "              'gender_Last': 'GENDER_LAST', \n",
    "              'fractF': 'FEMALE_FRACTION', \n",
    "              'FractM': 'MALE_FRACTION',\n",
    "              'Ediscipline': 'DISCIPLINE',\n",
    "              'ESpecialite': 'SUBDISCIPLINE'}\n",
    "rawdf.rename(index=str, columns=rename_dic, inplace=True)\n",
    "rawdf.head(2)"
   ]
  },
  {
   "cell_type": "markdown",
   "metadata": {},
   "source": [
    "## Merging with continent data"
   ]
  },
  {
   "cell_type": "code",
   "execution_count": 7,
   "metadata": {},
   "outputs": [],
   "source": [
    "cont_file = '../data/country_continent.csv'\n",
    "cont_supp_file = cont_file.replace('country_continent', 'country_continent_added')"
   ]
  },
  {
   "cell_type": "code",
   "execution_count": 8,
   "metadata": {},
   "outputs": [
    {
     "data": {
      "text/html": [
       "<div>\n",
       "<style scoped>\n",
       "    .dataframe tbody tr th:only-of-type {\n",
       "        vertical-align: middle;\n",
       "    }\n",
       "\n",
       "    .dataframe tbody tr th {\n",
       "        vertical-align: top;\n",
       "    }\n",
       "\n",
       "    .dataframe thead th {\n",
       "        text-align: right;\n",
       "    }\n",
       "</style>\n",
       "<table border=\"1\" class=\"dataframe\">\n",
       "  <thead>\n",
       "    <tr style=\"text-align: right;\">\n",
       "      <th></th>\n",
       "      <th>COUNTRY</th>\n",
       "      <th>CONTINENT</th>\n",
       "    </tr>\n",
       "  </thead>\n",
       "  <tbody>\n",
       "    <tr>\n",
       "      <th>0</th>\n",
       "      <td>United Arab Republic</td>\n",
       "      <td>Asia</td>\n",
       "    </tr>\n",
       "    <tr>\n",
       "      <th>1</th>\n",
       "      <td>Burundi</td>\n",
       "      <td>Africa</td>\n",
       "    </tr>\n",
       "  </tbody>\n",
       "</table>\n",
       "</div>"
      ],
      "text/plain": [
       "                COUNTRY CONTINENT\n",
       "0  United Arab Republic      Asia\n",
       "1               Burundi    Africa"
      ]
     },
     "execution_count": 8,
     "metadata": {},
     "output_type": "execute_result"
    }
   ],
   "source": [
    "raw_cont_df = pd.read_csv(cont_file) \n",
    "raw_cont_df.head(2)"
   ]
  },
  {
   "cell_type": "code",
   "execution_count": 9,
   "metadata": {},
   "outputs": [
    {
     "data": {
      "text/plain": [
       "Africa              65\n",
       "Asia                59\n",
       "Europe              52\n",
       "South America       38\n",
       "Oceania             23\n",
       "Northern America     4\n",
       "Unknown              2\n",
       "Name: CONTINENT, dtype: int64"
      ]
     },
     "execution_count": 9,
     "metadata": {},
     "output_type": "execute_result"
    }
   ],
   "source": [
    "raw_cont_df.CONTINENT.value_counts()"
   ]
  },
  {
   "cell_type": "markdown",
   "metadata": {},
   "source": [
    "Let's first check the country names. "
   ]
  },
  {
   "cell_type": "code",
   "execution_count": 10,
   "metadata": {},
   "outputs": [
    {
     "data": {
      "text/plain": [
       "{'Bangladesh',\n",
       " 'Burkina Faso',\n",
       " 'Democratic Republic of the Congo',\n",
       " 'Netherlands-Antilles',\n",
       " 'Republic of Serbia',\n",
       " 'Saint-Vincent-et-les-Grenadines',\n",
       " 'South Sudan',\n",
       " 'Trinidad and Tobago'}"
      ]
     },
     "execution_count": 10,
     "metadata": {},
     "output_type": "execute_result"
    }
   ],
   "source": [
    "set(rawdf.MAIN_COUNTRY) - set(raw_cont_df.COUNTRY)"
   ]
  },
  {
   "cell_type": "markdown",
   "metadata": {},
   "source": [
    "Most of them are not matched due to some variations in the spelling. Let's take a simple approach of appending the continent assignments for them. We store them in a new file and load them here. "
   ]
  },
  {
   "cell_type": "code",
   "execution_count": 11,
   "metadata": {},
   "outputs": [
    {
     "data": {
      "text/html": [
       "<div>\n",
       "<style scoped>\n",
       "    .dataframe tbody tr th:only-of-type {\n",
       "        vertical-align: middle;\n",
       "    }\n",
       "\n",
       "    .dataframe tbody tr th {\n",
       "        vertical-align: top;\n",
       "    }\n",
       "\n",
       "    .dataframe thead th {\n",
       "        text-align: right;\n",
       "    }\n",
       "</style>\n",
       "<table border=\"1\" class=\"dataframe\">\n",
       "  <thead>\n",
       "    <tr style=\"text-align: right;\">\n",
       "      <th></th>\n",
       "      <th>COUNTRY</th>\n",
       "      <th>CONTINENT</th>\n",
       "    </tr>\n",
       "  </thead>\n",
       "  <tbody>\n",
       "    <tr>\n",
       "      <th>0</th>\n",
       "      <td>Bangladesh</td>\n",
       "      <td>Asia</td>\n",
       "    </tr>\n",
       "    <tr>\n",
       "      <th>1</th>\n",
       "      <td>Burkina Faso</td>\n",
       "      <td>Africa</td>\n",
       "    </tr>\n",
       "    <tr>\n",
       "      <th>2</th>\n",
       "      <td>Democratic Republic of the Congo</td>\n",
       "      <td>Africa</td>\n",
       "    </tr>\n",
       "    <tr>\n",
       "      <th>3</th>\n",
       "      <td>Netherlands-Antilles</td>\n",
       "      <td>South America</td>\n",
       "    </tr>\n",
       "    <tr>\n",
       "      <th>4</th>\n",
       "      <td>Republic of Serbia</td>\n",
       "      <td>Europe</td>\n",
       "    </tr>\n",
       "    <tr>\n",
       "      <th>5</th>\n",
       "      <td>Saint-Vincent-et-les-Grenadines</td>\n",
       "      <td>South America</td>\n",
       "    </tr>\n",
       "    <tr>\n",
       "      <th>6</th>\n",
       "      <td>South Sudan</td>\n",
       "      <td>Africa</td>\n",
       "    </tr>\n",
       "    <tr>\n",
       "      <th>7</th>\n",
       "      <td>Trinidad and Tobago</td>\n",
       "      <td>South America</td>\n",
       "    </tr>\n",
       "  </tbody>\n",
       "</table>\n",
       "</div>"
      ],
      "text/plain": [
       "                            COUNTRY      CONTINENT\n",
       "0                        Bangladesh           Asia\n",
       "1                      Burkina Faso         Africa\n",
       "2  Democratic Republic of the Congo         Africa\n",
       "3              Netherlands-Antilles  South America\n",
       "4                Republic of Serbia         Europe\n",
       "5   Saint-Vincent-et-les-Grenadines  South America\n",
       "6                       South Sudan         Africa\n",
       "7               Trinidad and Tobago  South America"
      ]
     },
     "execution_count": 11,
     "metadata": {},
     "output_type": "execute_result"
    }
   ],
   "source": [
    "temp_df = pd.read_csv(cont_supp_file) \n",
    "temp_df"
   ]
  },
  {
   "cell_type": "code",
   "execution_count": 12,
   "metadata": {},
   "outputs": [
    {
     "data": {
      "text/plain": [
       "set()"
      ]
     },
     "execution_count": 12,
     "metadata": {},
     "output_type": "execute_result"
    }
   ],
   "source": [
    "cont_df = pd.concat([raw_cont_df, temp_df])\n",
    "set(rawdf.MAIN_COUNTRY) - set(cont_df.COUNTRY)"
   ]
  },
  {
   "cell_type": "code",
   "execution_count": 13,
   "metadata": {},
   "outputs": [],
   "source": [
    "df = pd.merge(rawdf, cont_df, left_on='MAIN_COUNTRY', right_on='COUNTRY', how='left')\n",
    "assert len(df) == len(rawdf)"
   ]
  },
  {
   "cell_type": "code",
   "execution_count": 14,
   "metadata": {},
   "outputs": [
    {
     "data": {
      "text/plain": [
       "Series([], Name: MAIN_COUNTRY, dtype: int64)"
      ]
     },
     "execution_count": 14,
     "metadata": {},
     "output_type": "execute_result"
    }
   ],
   "source": [
    "df[df.CONTINENT.isnull()].MAIN_COUNTRY.value_counts()"
   ]
  },
  {
   "cell_type": "code",
   "execution_count": 15,
   "metadata": {},
   "outputs": [
    {
     "data": {
      "text/plain": [
       "3298951"
      ]
     },
     "execution_count": 15,
     "metadata": {},
     "output_type": "execute_result"
    }
   ],
   "source": [
    "len(df)"
   ]
  },
  {
   "cell_type": "code",
   "execution_count": 16,
   "metadata": {},
   "outputs": [
    {
     "data": {
      "text/html": [
       "<div>\n",
       "<style scoped>\n",
       "    .dataframe tbody tr th:only-of-type {\n",
       "        vertical-align: middle;\n",
       "    }\n",
       "\n",
       "    .dataframe tbody tr th {\n",
       "        vertical-align: top;\n",
       "    }\n",
       "\n",
       "    .dataframe thead th {\n",
       "        text-align: right;\n",
       "    }\n",
       "</style>\n",
       "<table border=\"1\" class=\"dataframe\">\n",
       "  <thead>\n",
       "    <tr style=\"text-align: right;\">\n",
       "      <th></th>\n",
       "      <th>PID</th>\n",
       "      <th>YEAR</th>\n",
       "      <th>MAIN_COUNTRY</th>\n",
       "      <th>N_AUTHORS</th>\n",
       "      <th>N_ADDRESSES</th>\n",
       "      <th>N_REFS</th>\n",
       "      <th>VENUE</th>\n",
       "      <th>IF</th>\n",
       "      <th>N_CITATIONS</th>\n",
       "      <th>GENDER_TOPIC</th>\n",
       "      <th>GENDER_FIRST</th>\n",
       "      <th>GENDER_LAST</th>\n",
       "      <th>FEMALE_FRACTION</th>\n",
       "      <th>MALE_FRACTION</th>\n",
       "      <th>DISCIPLINE</th>\n",
       "      <th>SUBDISCIPLINE</th>\n",
       "      <th>COUNTRY</th>\n",
       "      <th>CONTINENT</th>\n",
       "    </tr>\n",
       "  </thead>\n",
       "  <tbody>\n",
       "    <tr>\n",
       "      <th>3052206</th>\n",
       "      <td>50549583</td>\n",
       "      <td>2013</td>\n",
       "      <td>Spain</td>\n",
       "      <td>8</td>\n",
       "      <td>3</td>\n",
       "      <td>48</td>\n",
       "      <td>MOLECULAR &amp; CELLULAR PROTEOMICS</td>\n",
       "      <td>1.920</td>\n",
       "      <td>6</td>\n",
       "      <td>N</td>\n",
       "      <td>F</td>\n",
       "      <td>F</td>\n",
       "      <td>0.375</td>\n",
       "      <td>0.625</td>\n",
       "      <td>Biomedical Research</td>\n",
       "      <td>Biochemistry &amp; Molecular Biology</td>\n",
       "      <td>Spain</td>\n",
       "      <td>Europe</td>\n",
       "    </tr>\n",
       "    <tr>\n",
       "      <th>1718091</th>\n",
       "      <td>52113966</td>\n",
       "      <td>2013</td>\n",
       "      <td>China</td>\n",
       "      <td>7</td>\n",
       "      <td>2</td>\n",
       "      <td>9</td>\n",
       "      <td>GENETICS AND MOLECULAR RESEARCH</td>\n",
       "      <td>0.819</td>\n",
       "      <td>1</td>\n",
       "      <td>N</td>\n",
       "      <td>INI</td>\n",
       "      <td>INI</td>\n",
       "      <td>nan</td>\n",
       "      <td>nan</td>\n",
       "      <td>Biomedical Research</td>\n",
       "      <td>Genetics &amp; Heredity</td>\n",
       "      <td>China</td>\n",
       "      <td>Asia</td>\n",
       "    </tr>\n",
       "    <tr>\n",
       "      <th>939523</th>\n",
       "      <td>47537229</td>\n",
       "      <td>2011</td>\n",
       "      <td>Turkey</td>\n",
       "      <td>3</td>\n",
       "      <td>1</td>\n",
       "      <td>25</td>\n",
       "      <td>REPRODUCTION IN DOMESTIC ANIMALS</td>\n",
       "      <td>0.992</td>\n",
       "      <td>2</td>\n",
       "      <td>M</td>\n",
       "      <td>INI</td>\n",
       "      <td>INI</td>\n",
       "      <td>nan</td>\n",
       "      <td>nan</td>\n",
       "      <td>Clinical Medicine</td>\n",
       "      <td>Veterinary Medicine</td>\n",
       "      <td>Turkey</td>\n",
       "      <td>Europe</td>\n",
       "    </tr>\n",
       "  </tbody>\n",
       "</table>\n",
       "</div>"
      ],
      "text/plain": [
       "              PID  YEAR MAIN_COUNTRY  N_AUTHORS  N_ADDRESSES  N_REFS  \\\n",
       "3052206  50549583  2013        Spain          8            3      48   \n",
       "1718091  52113966  2013        China          7            2       9   \n",
       "939523   47537229  2011       Turkey          3            1      25   \n",
       "\n",
       "                                    VENUE    IF  N_CITATIONS GENDER_TOPIC  \\\n",
       "3052206   MOLECULAR & CELLULAR PROTEOMICS 1.920            6            N   \n",
       "1718091   GENETICS AND MOLECULAR RESEARCH 0.819            1            N   \n",
       "939523   REPRODUCTION IN DOMESTIC ANIMALS 0.992            2            M   \n",
       "\n",
       "        GENDER_FIRST GENDER_LAST  FEMALE_FRACTION  MALE_FRACTION  \\\n",
       "3052206            F           F            0.375          0.625   \n",
       "1718091          INI         INI              nan            nan   \n",
       "939523           INI         INI              nan            nan   \n",
       "\n",
       "                  DISCIPLINE                     SUBDISCIPLINE COUNTRY  \\\n",
       "3052206  Biomedical Research  Biochemistry & Molecular Biology   Spain   \n",
       "1718091  Biomedical Research               Genetics & Heredity   China   \n",
       "939523     Clinical Medicine               Veterinary Medicine  Turkey   \n",
       "\n",
       "        CONTINENT  \n",
       "3052206    Europe  \n",
       "1718091      Asia  \n",
       "939523     Europe  "
      ]
     },
     "execution_count": 16,
     "metadata": {},
     "output_type": "execute_result"
    }
   ],
   "source": [
    "df.sample(3)"
   ]
  },
  {
   "cell_type": "code",
   "execution_count": 17,
   "metadata": {},
   "outputs": [
    {
     "data": {
      "text/plain": [
       "Northern America    1122655\n",
       "Europe              1101293\n",
       "Asia                 830092\n",
       "South America        107660\n",
       "Oceania              102907\n",
       "Africa                34344\n",
       "Name: CONTINENT, dtype: int64"
      ]
     },
     "execution_count": 17,
     "metadata": {},
     "output_type": "execute_result"
    }
   ],
   "source": [
    "df.CONTINENT.value_counts()"
   ]
  },
  {
   "cell_type": "markdown",
   "metadata": {},
   "source": [
    "## Checking YEAR column"
   ]
  },
  {
   "cell_type": "code",
   "execution_count": 18,
   "metadata": {},
   "outputs": [
    {
     "data": {
      "text/plain": [
       "2015    419530\n",
       "2014    415277\n",
       "2013    408843\n",
       "2012    392369\n",
       "2011    367219\n",
       "2010    351996\n",
       "2009    334431\n",
       "2008    323201\n",
       "2016    286085\n",
       "Name: YEAR, dtype: int64"
      ]
     },
     "execution_count": 18,
     "metadata": {},
     "output_type": "execute_result"
    }
   ],
   "source": [
    "df.YEAR.value_counts()"
   ]
  },
  {
   "cell_type": "markdown",
   "metadata": {},
   "source": [
    "Looks alright. "
   ]
  },
  {
   "cell_type": "markdown",
   "metadata": {},
   "source": [
    "## Checking the gender columns"
   ]
  },
  {
   "cell_type": "code",
   "execution_count": 19,
   "metadata": {},
   "outputs": [
    {
     "data": {
      "text/plain": [
       "M      1364289\n",
       "F       958865\n",
       "INI     390723\n",
       "UNK     311235\n",
       "UNI      69387\n",
       "m        33315\n",
       "f        30842\n",
       "uni       3194\n",
       "unk         82\n",
       "Name: GENDER_FIRST, dtype: int64"
      ]
     },
     "execution_count": 19,
     "metadata": {},
     "output_type": "execute_result"
    }
   ],
   "source": [
    "df.GENDER_FIRST.value_counts()"
   ]
  },
  {
   "cell_type": "code",
   "execution_count": 20,
   "metadata": {},
   "outputs": [
    {
     "data": {
      "text/plain": [
       "M      1762213\n",
       "F       668304\n",
       "INI     407760\n",
       "UNK     276190\n",
       "UNI      79968\n",
       "m        49263\n",
       "f        28640\n",
       "uni       2438\n",
       "unk        122\n",
       "Name: GENDER_LAST, dtype: int64"
      ]
     },
     "execution_count": 20,
     "metadata": {},
     "output_type": "execute_result"
    }
   ],
   "source": [
    "df.GENDER_LAST.value_counts()"
   ]
  },
  {
   "cell_type": "code",
   "execution_count": 21,
   "metadata": {
    "scrolled": true
   },
   "outputs": [
    {
     "data": {
      "text/plain": [
       "N    1428777\n",
       "B    1119664\n",
       "F     385786\n",
       "M     364724\n",
       "Name: GENDER_TOPIC, dtype: int64"
      ]
     },
     "execution_count": 21,
     "metadata": {},
     "output_type": "execute_result"
    }
   ],
   "source": [
    "df.GENDER_TOPIC.value_counts()"
   ]
  },
  {
   "cell_type": "code",
   "execution_count": 22,
   "metadata": {},
   "outputs": [
    {
     "data": {
      "text/plain": [
       "0"
      ]
     },
     "execution_count": 22,
     "metadata": {},
     "output_type": "execute_result"
    }
   ],
   "source": [
    "df.GENDER_TOPIC.isnull().sum()"
   ]
  },
  {
   "cell_type": "markdown",
   "metadata": {},
   "source": [
    "Let's replace 'INI', 'UNK', 'UNI', 'uni', 'unk' with `np.nan`, and make `m` and `f` to uppercase. "
   ]
  },
  {
   "cell_type": "code",
   "execution_count": 23,
   "metadata": {},
   "outputs": [
    {
     "data": {
      "text/plain": [
       "M    1397604\n",
       "F     989707\n",
       "Name: GENDER_FIRST, dtype: int64"
      ]
     },
     "execution_count": 23,
     "metadata": {},
     "output_type": "execute_result"
    }
   ],
   "source": [
    "gender_replace_dic = {'INI': np.nan, 'UNK': np.nan, 'UNI': np.nan, \n",
    "                      'uni': np.nan, 'unk': np.nan, 'm': 'M', 'f': 'F'}\n",
    "df.replace({'GENDER_FIRST': gender_replace_dic,\n",
    "            'GENDER_LAST': gender_replace_dic}, inplace=True)\n",
    "df.GENDER_FIRST.value_counts()"
   ]
  },
  {
   "cell_type": "code",
   "execution_count": 24,
   "metadata": {},
   "outputs": [
    {
     "data": {
      "text/plain": [
       "1192430"
      ]
     },
     "execution_count": 24,
     "metadata": {},
     "output_type": "execute_result"
    }
   ],
   "source": [
    "len(df[ (df.GENDER_FIRST.isnull()) | (df.GENDER_LAST.isnull()) ])"
   ]
  },
  {
   "cell_type": "markdown",
   "metadata": {},
   "source": [
    "Let's drop these rows with unknown gender. "
   ]
  },
  {
   "cell_type": "code",
   "execution_count": 25,
   "metadata": {},
   "outputs": [
    {
     "data": {
      "text/plain": [
       "2106521"
      ]
     },
     "execution_count": 25,
     "metadata": {},
     "output_type": "execute_result"
    }
   ],
   "source": [
    "df.dropna(subset=['GENDER_FIRST', 'GENDER_LAST', 'GENDER_TOPIC'], inplace=True)\n",
    "len(df)"
   ]
  },
  {
   "cell_type": "markdown",
   "metadata": {},
   "source": [
    "Is the first author's gender and the last author's gender same when there is only one author?"
   ]
  },
  {
   "cell_type": "code",
   "execution_count": 26,
   "metadata": {},
   "outputs": [
    {
     "data": {
      "text/plain": [
       "True"
      ]
     },
     "execution_count": 26,
     "metadata": {},
     "output_type": "execute_result"
    }
   ],
   "source": [
    "all(df[df.N_AUTHORS == 1].GENDER_FIRST == df[df.N_AUTHORS == 1].GENDER_LAST)"
   ]
  },
  {
   "cell_type": "markdown",
   "metadata": {},
   "source": [
    "## Disciplines"
   ]
  },
  {
   "cell_type": "code",
   "execution_count": 27,
   "metadata": {},
   "outputs": [
    {
     "data": {
      "text/plain": [
       "0"
      ]
     },
     "execution_count": 27,
     "metadata": {},
     "output_type": "execute_result"
    }
   ],
   "source": [
    "df.DISCIPLINE.isnull().sum()"
   ]
  },
  {
   "cell_type": "code",
   "execution_count": 28,
   "metadata": {},
   "outputs": [
    {
     "data": {
      "text/plain": [
       "0"
      ]
     },
     "execution_count": 28,
     "metadata": {},
     "output_type": "execute_result"
    }
   ],
   "source": [
    "df.SUBDISCIPLINE.isnull().sum()"
   ]
  },
  {
   "cell_type": "code",
   "execution_count": 29,
   "metadata": {},
   "outputs": [
    {
     "data": {
      "text/plain": [
       "Clinical Medicine      1373352\n",
       "Biomedical Research     607959\n",
       "Health                  125210\n",
       "Name: DISCIPLINE, dtype: int64"
      ]
     },
     "execution_count": 29,
     "metadata": {},
     "output_type": "execute_result"
    }
   ],
   "source": [
    "df.DISCIPLINE.value_counts()"
   ]
  },
  {
   "cell_type": "code",
   "execution_count": 30,
   "metadata": {},
   "outputs": [
    {
     "data": {
      "text/plain": [
       "Biochemistry & Molecular Biology           169450\n",
       "Neurology & Neurosurgery                   153726\n",
       "General Biomedical Research                143210\n",
       "Pharmacology                               123995\n",
       "General & Internal Medicine                119197\n",
       "Cancer                                     110305\n",
       "Surgery                                     89951\n",
       "Cardiovascular System                       79515\n",
       "Immunology                                  73011\n",
       "Microbiology                                53504\n",
       "Radiology & Nuclear Medicine                53389\n",
       "Genetics & Heredity                         51249\n",
       "Cellular Biology Cytology & Histology       44619\n",
       "Public Health                               42284\n",
       "Endocrinology                               40020\n",
       "Gastroenterology                            38936\n",
       "Psychiatry                                  38890\n",
       "Orthopedics                                 35386\n",
       "Biomedical Engineering                      34354\n",
       "Pediatrics                                  32474\n",
       "Ophthalmology                               30299\n",
       "Urology                                     29620\n",
       "Nursing                                     27803\n",
       "Pathology                                   27737\n",
       "Hematology                                  25929\n",
       "Health Policy & Services                    25830\n",
       "Obstetrics & Gynecology                     25703\n",
       "Veterinary Medicine                         24498\n",
       "Dentistry                                   23999\n",
       "Miscellaneous Clinical Medicine             23877\n",
       "Physiology                                  23577\n",
       "Dermatology & Venerial Disease              22884\n",
       "Environmental & Occupational Health         22784\n",
       "Nutrition & Dietetic                        22359\n",
       "Otorhinolaryngology                         21668\n",
       "Virology                                    21433\n",
       "Respiratory System                          17005\n",
       "Arthritis & Rheumatology                    15618\n",
       "Miscellaneous Biomedical Research           14649\n",
       "Rehabilitation                              13430\n",
       "Addictive Diseases                          12765\n",
       "Pharmacy                                    12548\n",
       "Nephrology                                  10560\n",
       "Parasitology                                10046\n",
       "Anesthesiology                               9857\n",
       "Fertility                                    9441\n",
       "Biophysics                                   9096\n",
       "Geriatrics & Gerontology                     8652\n",
       "Geriatrics                                   7469\n",
       "Tropical Medicine                            7025\n",
       "Embryology                                   5445\n",
       "Anatomy & Morphology                         3787\n",
       "Social Sciences, Biomedical                  3521\n",
       "Speech-Language Pathology and Audiology      3493\n",
       "Allergy                                      3271\n",
       "Microscopy                                   1181\n",
       "Social Studies of Medicine                    197\n",
       "Name: SUBDISCIPLINE, dtype: int64"
      ]
     },
     "execution_count": 30,
     "metadata": {},
     "output_type": "execute_result"
    }
   ],
   "source": [
    "df.SUBDISCIPLINE.value_counts()"
   ]
  },
  {
   "cell_type": "markdown",
   "metadata": {},
   "source": [
    "## Citations"
   ]
  },
  {
   "cell_type": "code",
   "execution_count": 31,
   "metadata": {},
   "outputs": [
    {
     "data": {
      "text/plain": [
       "0"
      ]
     },
     "execution_count": 31,
     "metadata": {},
     "output_type": "execute_result"
    }
   ],
   "source": [
    "df.N_CITATIONS.isnull().sum()"
   ]
  },
  {
   "cell_type": "code",
   "execution_count": 32,
   "metadata": {},
   "outputs": [
    {
     "data": {
      "text/plain": [
       "count   2106521.000\n",
       "mean         14.459\n",
       "std          39.882\n",
       "min           0.000\n",
       "25%           2.000\n",
       "50%           6.000\n",
       "75%          15.000\n",
       "max       22928.000\n",
       "Name: N_CITATIONS, dtype: float64"
      ]
     },
     "execution_count": 32,
     "metadata": {},
     "output_type": "execute_result"
    }
   ],
   "source": [
    "df.N_CITATIONS.describe()"
   ]
  },
  {
   "cell_type": "code",
   "execution_count": 33,
   "metadata": {},
   "outputs": [
    {
     "data": {
      "image/png": "[encoded data removed]",
      "text/plain": [
       "<Figure size 288x216 with 1 Axes>"
      ]
     },
     "metadata": {
      "needs_background": "light"
     },
     "output_type": "display_data"
    }
   ],
   "source": [
    "plot_col_ccdf(df, 'N_CITATIONS')"
   ]
  },
  {
   "cell_type": "markdown",
   "metadata": {},
   "source": [
    "## Impact factor"
   ]
  },
  {
   "cell_type": "code",
   "execution_count": 34,
   "metadata": {},
   "outputs": [
    {
     "data": {
      "text/plain": [
       "55285"
      ]
     },
     "execution_count": 34,
     "metadata": {},
     "output_type": "execute_result"
    }
   ],
   "source": [
    "df.IF.isnull().sum()"
   ]
  },
  {
   "cell_type": "code",
   "execution_count": 35,
   "metadata": {},
   "outputs": [],
   "source": [
    "df.dropna(subset=['IF'], inplace=True)"
   ]
  },
  {
   "cell_type": "code",
   "execution_count": 36,
   "metadata": {},
   "outputs": [
    {
     "data": {
      "text/plain": [
       "<matplotlib.axes._subplots.AxesSubplot at 0x121c7cc18>"
      ]
     },
     "execution_count": 36,
     "metadata": {},
     "output_type": "execute_result"
    },
    {
     "data": {
      "image/png": "[encoded data removed]",
      "text/plain": [
       "<Figure size 432x288 with 1 Axes>"
      ]
     },
     "metadata": {
      "needs_background": "light"
     },
     "output_type": "display_data"
    }
   ],
   "source": [
    "df.IF.hist()"
   ]
  },
  {
   "cell_type": "code",
   "execution_count": 37,
   "metadata": {},
   "outputs": [
    {
     "data": {
      "image/png": "[encoded data removed]",
      "text/plain": [
       "<Figure size 288x216 with 1 Axes>"
      ]
     },
     "metadata": {
      "needs_background": "light"
     },
     "output_type": "display_data"
    }
   ],
   "source": [
    "plot_col_ccdf(df, 'IF')"
   ]
  },
  {
   "cell_type": "markdown",
   "metadata": {},
   "source": [
    "## N_REFS"
   ]
  },
  {
   "cell_type": "code",
   "execution_count": 38,
   "metadata": {},
   "outputs": [
    {
     "data": {
      "text/plain": [
       "0"
      ]
     },
     "execution_count": 38,
     "metadata": {},
     "output_type": "execute_result"
    }
   ],
   "source": [
    "df.N_REFS.isnull().sum()"
   ]
  },
  {
   "cell_type": "code",
   "execution_count": 39,
   "metadata": {},
   "outputs": [
    {
     "data": {
      "text/plain": [
       "<matplotlib.axes._subplots.AxesSubplot at 0x126f5a978>"
      ]
     },
     "execution_count": 39,
     "metadata": {},
     "output_type": "execute_result"
    },
    {
     "data": {
      "image/png": "[encoded data removed]",
      "text/plain": [
       "<Figure size 432x288 with 1 Axes>"
      ]
     },
     "metadata": {
      "needs_background": "light"
     },
     "output_type": "display_data"
    }
   ],
   "source": [
    "df.N_REFS.hist()"
   ]
  },
  {
   "cell_type": "code",
   "execution_count": 40,
   "metadata": {},
   "outputs": [
    {
     "data": {
      "text/plain": [
       "count   2051236.000\n",
       "mean         41.378\n",
       "std          32.391\n",
       "min           0.000\n",
       "25%          24.000\n",
       "50%          35.000\n",
       "75%          49.000\n",
       "max        3048.000\n",
       "Name: N_REFS, dtype: float64"
      ]
     },
     "execution_count": 40,
     "metadata": {},
     "output_type": "execute_result"
    }
   ],
   "source": [
    "df.N_REFS.describe()"
   ]
  },
  {
   "cell_type": "code",
   "execution_count": 41,
   "metadata": {},
   "outputs": [
    {
     "data": {
      "image/png": "[encoded data removed]",
      "text/plain": [
       "<Figure size 288x216 with 1 Axes>"
      ]
     },
     "metadata": {
      "needs_background": "light"
     },
     "output_type": "display_data"
    }
   ],
   "source": [
    "plot_col_ccdf(df, 'N_REFS')"
   ]
  },
  {
   "cell_type": "markdown",
   "metadata": {},
   "source": [
    "## N_ADDRESSES"
   ]
  },
  {
   "cell_type": "code",
   "execution_count": 42,
   "metadata": {},
   "outputs": [
    {
     "data": {
      "text/plain": [
       "0"
      ]
     },
     "execution_count": 42,
     "metadata": {},
     "output_type": "execute_result"
    }
   ],
   "source": [
    "df.N_ADDRESSES.isnull().sum()"
   ]
  },
  {
   "cell_type": "code",
   "execution_count": 43,
   "metadata": {},
   "outputs": [
    {
     "data": {
      "text/plain": [
       "count   2051236.000\n",
       "mean          2.890\n",
       "std           2.106\n",
       "min           1.000\n",
       "25%           1.000\n",
       "50%           2.000\n",
       "75%           4.000\n",
       "max         121.000\n",
       "Name: N_ADDRESSES, dtype: float64"
      ]
     },
     "execution_count": 43,
     "metadata": {},
     "output_type": "execute_result"
    }
   ],
   "source": [
    "df.N_ADDRESSES.describe()"
   ]
  },
  {
   "cell_type": "code",
   "execution_count": 44,
   "metadata": {},
   "outputs": [
    {
     "data": {
      "image/png": "[encoded data removed]",
      "text/plain": [
       "<Figure size 288x216 with 1 Axes>"
      ]
     },
     "metadata": {
      "needs_background": "light"
     },
     "output_type": "display_data"
    }
   ],
   "source": [
    "plot_col_ccdf(df, 'N_ADDRESSES')"
   ]
  },
  {
   "cell_type": "markdown",
   "metadata": {},
   "source": [
    "## Checking the N_AUTHORS column"
   ]
  },
  {
   "cell_type": "code",
   "execution_count": 45,
   "metadata": {},
   "outputs": [
    {
     "data": {
      "text/plain": [
       "count   2051236.000\n",
       "mean          5.570\n",
       "std           3.442\n",
       "min           1.000\n",
       "25%           3.000\n",
       "50%           5.000\n",
       "75%           7.000\n",
       "max        1014.000\n",
       "Name: N_AUTHORS, dtype: float64"
      ]
     },
     "execution_count": 45,
     "metadata": {},
     "output_type": "execute_result"
    }
   ],
   "source": [
    "df.N_AUTHORS.describe()"
   ]
  },
  {
   "cell_type": "code",
   "execution_count": 46,
   "metadata": {},
   "outputs": [
    {
     "data": {
      "text/plain": [
       "0"
      ]
     },
     "execution_count": 46,
     "metadata": {},
     "output_type": "execute_result"
    }
   ],
   "source": [
    "df.N_AUTHORS.isnull().sum()"
   ]
  },
  {
   "cell_type": "code",
   "execution_count": 47,
   "metadata": {},
   "outputs": [
    {
     "data": {
      "image/png": "[encoded data removed]",
      "text/plain": [
       "<Figure size 288x216 with 1 Axes>"
      ]
     },
     "metadata": {
      "needs_background": "light"
     },
     "output_type": "display_data"
    }
   ],
   "source": [
    "plot_col_ccdf(df, 'N_AUTHORS')"
   ]
  },
  {
   "cell_type": "markdown",
   "metadata": {},
   "source": [
    "Quite similar to the number of addresses (naturally). "
   ]
  },
  {
   "cell_type": "code",
   "execution_count": 48,
   "metadata": {},
   "outputs": [
    {
     "data": {
      "text/plain": [
       "84090"
      ]
     },
     "execution_count": 48,
     "metadata": {},
     "output_type": "execute_result"
    }
   ],
   "source": [
    "len(df[df.N_AUTHORS == 1])"
   ]
  },
  {
   "cell_type": "code",
   "execution_count": 49,
   "metadata": {},
   "outputs": [
    {
     "data": {
      "text/plain": [
       "1967146"
      ]
     },
     "execution_count": 49,
     "metadata": {},
     "output_type": "execute_result"
    }
   ],
   "source": [
    "len(df[df.N_AUTHORS != 1])"
   ]
  },
  {
   "cell_type": "code",
   "execution_count": 50,
   "metadata": {},
   "outputs": [
    {
     "data": {
      "text/plain": [
       "True"
      ]
     },
     "execution_count": 50,
     "metadata": {},
     "output_type": "execute_result"
    }
   ],
   "source": [
    "len(df[df.N_AUTHORS > 1]) + len(df[df.N_AUTHORS == 1]) == len(df)"
   ]
  },
  {
   "cell_type": "markdown",
   "metadata": {},
   "source": [
    "Let's save them into two different tables. "
   ]
  },
  {
   "cell_type": "code",
   "execution_count": 51,
   "metadata": {},
   "outputs": [],
   "source": [
    "sdf = df[df.N_AUTHORS == 1]\n",
    "sdf.to_csv('single_author.csv', index=False)\n",
    "\n",
    "mdf = df[df.N_AUTHORS > 1]\n",
    "mdf.to_csv('multi_author.csv', index=False)"
   ]
  },
  {
   "cell_type": "code",
   "execution_count": null,
   "metadata": {},
   "outputs": [],
   "source": []
  },
  {
   "cell_type": "code",
   "execution_count": null,
   "metadata": {},
   "outputs": [],
   "source": []
  }
 ],
 "metadata": {
  "kernelspec": {
   "display_name": "genderXgender",
   "language": "python",
   "name": "genderxgender"
  },
  "language_info": {
   "codemirror_mode": {
    "name": "ipython",
    "version": 3
   },
   "file_extension": ".py",
   "mimetype": "text/x-python",
   "name": "python",
   "nbconvert_exporter": "python",
   "pygments_lexer": "ipython3",
   "version": "3.6.5"
  },
  "toc": {
   "nav_menu": {},
   "number_sections": true,
   "sideBar": true,
   "skip_h1_title": false,
   "title_cell": "Table of Contents",
   "title_sidebar": "Contents",
   "toc_cell": false,
   "toc_position": {},
   "toc_section_display": true,
   "toc_window_display": true
  }
 },
 "nbformat": 4,
 "nbformat_minor": 2
}
