{
 "cells": [
  {
   "cell_type": "code",
   "execution_count": 35,
   "metadata": {},
   "outputs": [],
   "source": [
    "import os\n",
    "from itertools import chain\n",
    "from ftplib import FTP"
   ]
  },
  {
   "cell_type": "code",
   "execution_count": 23,
   "metadata": {},
   "outputs": [],
   "source": [
    "url = 'nlmpubs.nlm.nih.gov'"
   ]
  },
  {
   "cell_type": "code",
   "execution_count": 24,
   "metadata": {},
   "outputs": [
    {
     "data": {
      "text/plain": [
       "'230 Anonymous access granted, restrictions apply'"
      ]
     },
     "execution_count": 24,
     "metadata": {},
     "output_type": "execute_result"
    }
   ],
   "source": [
    "ftp = FTP(url)\n",
    "ftp.login()"
   ]
  },
  {
   "cell_type": "code",
   "execution_count": 41,
   "metadata": {},
   "outputs": [],
   "source": [
    "def fpath_gen():\n",
    "    mesh_dir = 'online/mesh'\n",
    "    mtree_fname = 'meshtrees/mtrees{year}.bin'\n",
    "    for year in chain(range(1997, 1999), range(2001, 2019)):\n",
    "        year_folder = '1999-2010' if year < 2011 else year_folder = f'{year}'\n",
    "        yield os.path.join(mesh_dir, yfolder, mtree_fname.format(year=year)\n",
    "            \n",
    "for fname in fpath_gen():\n",
    "    outfname = os.path.basename(fname)\n",
    "    ftp.retrbinary(f'RETR {fname}', open(outfname, 'wb').write)"
   ]
  },
  {
   "cell_type": "code",
   "execution_count": 40,
   "metadata": {},
   "outputs": [
    {
     "name": "stdout",
     "output_type": "stream",
     "text": [
      "-rwxrwxr-x   1 ftp      ftp       1162335 Apr 22  2016 mtrees1997.bin\n",
      "-rwxrwxr-x   1 ftp      ftp       1175753 Apr 22  2016 mtrees1998.bin\n",
      "-rwxrwxr-x   1 ftp      ftp       1327852 Apr 22  2016 mtrees2001.bin\n",
      "-rwxrwxr-x   1 ftp      ftp       1415475 Apr 22  2016 mtrees2002.bin\n",
      "-rwxrwxr-x   1 ftp      ftp       1494353 Apr 22  2016 mtrees2003.bin\n",
      "-rwxrwxr-x   1 ftp      ftp       1554493 Apr 22  2016 mtrees2004.bin\n",
      "-rwxrwxr-x   1 ftp      ftp       1621485 Apr 22  2016 mtrees2005.bin\n",
      "-rwxrwxr-x   1 ftp      ftp       1745213 Apr 22  2016 mtrees2006.bin\n",
      "-rwxrwxr-x   1 ftp      ftp       1890543 Apr 22  2016 mtrees2007.bin\n",
      "-rwxrwxr-x   1 ftp      ftp       1952280 Apr 22  2016 mtrees2008.bin\n",
      "-rwxrwxr-x   1 ftp      ftp       2008923 Apr 22  2016 mtrees2009.bin\n",
      "-rwxrwxr-x   1 ftp      ftp       2070340 Apr 22  2016 mtrees2010.bin\n"
     ]
    }
   ],
   "source": [
    "ftp.dir('online/mesh/1999-2010/meshtrees/')"
   ]
  },
  {
   "cell_type": "code",
   "execution_count": 19,
   "metadata": {},
   "outputs": [
    {
     "name": "stdout",
     "output_type": "stream",
     "text": [
      "drwxrwsr-x  11 ftp      ftp          4096 Dec 21  2016 1999-2010\n",
      "drwxrwsr-x  11 ftp      ftp          4096 Nov 17  2017 2011\n",
      "drwxrwsr-x  11 ftp      ftp          4096 Dec 21  2016 2012\n",
      "drwxrwsr-x  11 ftp      ftp          4096 Dec 21  2016 2013\n",
      "drwxrwsr-x  11 ftp      ftp          4096 Dec 21  2016 2014\n",
      "drwxrwsr-x  11 ftp      ftp          4096 Dec 21  2016 2015\n",
      "drwxrwsr-x  11 ftp      ftp          4096 Dec 21  2016 2016\n",
      "drwxrwsr-x  11 ftp      ftp          4096 Nov 17  2017 2017\n",
      "drwxrwsrwx  10 ftp      ftp          4096 Jul 17 16:59 2018\n",
      "drwxrwxr-x   2 ftp      ftp          4096 Mar 12  2012 gcm\n",
      "drwxrwsr-x  13 ftp      ftp          4096 Nov 17  2017 MESH_FILES\n",
      "-rw-rw-r--   1 ftp      ftp      1907073102 Sep 13  2017 mesh.nt\n",
      "-rw-rw-r--   1 ftp      ftp      114986565 Sep 13  2017 mesh.nt.gz\n",
      "drwxr-sr-x   6 ftp      ftp          4096 Aug 28 12:44 rdf\n",
      "-rwxrwxr-x   1 ftp      ftp           895 May 12  2016 readme_MeSH_files.txt\n",
      "-rw-rw-r--   1 ftp      ftp           446 Sep 13  2017 readme.txt\n",
      "-rw-r--r--   1 ftp      ftp          1170 Sep 13  2017 service_description.ttl\n",
      "-rw-r--r--   1 ftp      ftp         51076 Sep 13  2017 vocabulary_0.9.3.ttl\n",
      "-rw-rw-r--   1 ftp      ftp         50855 Dec  3  2015 vocabulary_0.9.ttl\n",
      "-rw-r--r--   1 ftp      ftp          2645 Sep 13  2017 void_0.9.3.ttl\n",
      "-rw-rw-r--   1 ftp      ftp          2572 Dec  3  2015 void_0.9.ttl\n"
     ]
    },
    {
     "data": {
      "text/plain": [
       "'226 Transfer complete'"
      ]
     },
     "execution_count": 19,
     "metadata": {},
     "output_type": "execute_result"
    }
   ],
   "source": [
    "ftp.cwd('mesh')\n",
    "ftp.retrlines('LIST')"
   ]
  }
 ],
 "metadata": {
  "kernelspec": {
   "display_name": "genderXgender",
   "language": "python",
   "name": "genderxgender"
  },
  "language_info": {
   "codemirror_mode": {
    "name": "ipython",
    "version": 3
   },
   "file_extension": ".py",
   "mimetype": "text/x-python",
   "name": "python",
   "nbconvert_exporter": "python",
   "pygments_lexer": "ipython3",
   "version": "3.6.5"
  }
 },
 "nbformat": 4,
 "nbformat_minor": 2
}
